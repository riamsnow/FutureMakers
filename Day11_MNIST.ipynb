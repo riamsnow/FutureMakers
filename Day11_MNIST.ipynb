{
  "nbformat": 4,
  "nbformat_minor": 0,
  "metadata": {
    "colab": {
      "name": "Day11_MNIST.ipynb",
      "provenance": [],
      "authorship_tag": "ABX9TyN87UDzWsN0CEIqZI8JtlxI",
      "include_colab_link": true
    },
    "kernelspec": {
      "name": "python3",
      "display_name": "Python 3"
    },
    "language_info": {
      "name": "python"
    },
    "accelerator": "GPU"
  },
  "cells": [
    {
      "cell_type": "markdown",
      "metadata": {
        "id": "view-in-github",
        "colab_type": "text"
      },
      "source": [
        "<a href=\"https://colab.research.google.com/github/riamsnow/FutureMakers/blob/main/Day11_MNIST.ipynb\" target=\"_parent\"><img src=\"https://colab.research.google.com/assets/colab-badge.svg\" alt=\"Open In Colab\"/></a>"
      ]
    },
    {
      "cell_type": "code",
      "metadata": {
        "id": "d8zw_i-YoCZa"
      },
      "source": [
        "# Importing the libraries\n",
        "from numpy import mean\n",
        "from numpy import std\n",
        "from matplotlib import pyplot\n",
        "from sklearn.model_selection import KFold\n",
        "from keras.datasets import mnist\n",
        "from tensorflow.keras.utils import to_categorical\n",
        "from keras.models import Sequential\n",
        "from keras.layers import Conv2D\n",
        "from keras.layers import MaxPooling2D\n",
        "from keras.layers import Dense\n",
        "from keras.layers import Flatten\n",
        "from keras.optimizers import SGD"
      ],
      "execution_count": 1,
      "outputs": []
    },
    {
      "cell_type": "code",
      "metadata": {
        "id": "XZ_t0qmVoDWY"
      },
      "source": [
        "# Load train and test dataset\n",
        "\n",
        "def load_dataset():\n",
        "  (trainX, trainY), (testX, testY) = mnist.load_data()\n",
        "  trainX = trainX.reshape((-1, 28, 28, 1))\n",
        "  testX = testX.reshape((-1, 28, 28, 1)) \n",
        "  trainY = to_categorical(trainY)\n",
        "  testY = to_categorical(testY)\n",
        "  return trainX, trainY, testX, testY \n",
        "  # (60,000, 28, 28) -> original shape\n",
        "  # (60,000, 28, 28, 1) -> original shape\n",
        "\n",
        "  # (0,1,2,3,4,5,6,7,8,9) -> original labels\n"
      ],
      "execution_count": 2,
      "outputs": []
    },
    {
      "cell_type": "code",
      "metadata": {
        "id": "aQZZfvIArwpC"
      },
      "source": [
        "#Standardization (scaling the features/pixels)\n",
        "\n",
        "def prep_pixels(train,test):\n",
        "  train_norm = train.astype('float32')\n",
        "  test_norm = test.astype('float32')\n",
        "  train_norm = train_norm/255.0\n",
        "  test_norm = test_norm/255.0\n",
        "  return train_norm, test_norm"
      ],
      "execution_count": 3,
      "outputs": []
    },
    {
      "cell_type": "code",
      "metadata": {
        "id": "pVIn6_PUsbO0"
      },
      "source": [
        "#Define the architecture\n",
        "def define_model():\n",
        "  model = Sequential()\n",
        "  model.add(Conv2D(32, (3, 3), activation = 'relu', kernel_initializer = 'he_uniform', input_shape = (28, 28,1)))\n",
        "  model.add(MaxPooling2D((2,2)))\n",
        "  model.add(Flatten())\n",
        "  model.add(Dense(100, activation = 'relu', kernel_initializer='he_uniform'))\n",
        "  model.add(Dense(10, activation = 'softmax'))\n",
        "\n",
        "  #compile the model\n",
        "  opt = SGD(learning_rate = 0.01, momentum = 0.9)\n",
        "  model.compile(optimizer = opt, loss = 'categorical_crossentropy', metrics = ['accuracy'])\n",
        "  return model\n"
      ],
      "execution_count": 4,
      "outputs": []
    },
    {
      "cell_type": "code",
      "metadata": {
        "id": "tOnD0OOXvJfE"
      },
      "source": [
        "# Evaluate the model using K-fold CV\n",
        "\n",
        "def evaluate_model(dataX, dataY, n_folds =5):\n",
        "  scores, histories = list(), list()\n",
        "  kfold = KFold(n_folds, shuffle=True, random_state=1)\n",
        "  for train_ix, test_ix in kfold.split(dataX):\n",
        "    model = define_model()\n",
        "    trainX, trainY, testX, testY = dataX[train_ix], dataY[train_ix],dataX[test_ix], dataY[test_ix] \n",
        "    history = model.fit(trainX, trainY, epochs = 10, batch_size =32, validation_data=(testX,testY), verbose = 0)\n",
        "    _, acc = model.evaluate(testX, testY, verbose = 0) #[0.2, 0.6]\n",
        "    print('> %0.3f'% (acc*100.0))\n",
        "    scores.append(acc)\n",
        "    histories.append(history)\n",
        "  return scores, histories"
      ],
      "execution_count": 5,
      "outputs": []
    },
    {
      "cell_type": "code",
      "metadata": {
        "id": "Y1yk6dQk0pjv"
      },
      "source": [
        "# Plot the curves\n",
        "\n",
        "def summarize_diagnostics(histories):\n",
        "  for i in range(len(histories)):\n",
        "    pyplot.subplot(2, 1, 1)\n",
        "    pyplot.title('Cross Entropy Loss')\n",
        "    pyplot.plot(histories[i].history['loss'], color='blue', label = 'train')\n",
        "    pyplot.plot(histories[i].history['val_loss'], color='orange', label = 'test')\n",
        "    pyplot.subplot(2, 1, 2)\n",
        "    pyplot.title('Classification Accuracy')\n",
        "    pyplot.plot(histories[i].history['accuracy'], color = 'blue', label = 'train')\n",
        "    pyplot.plot(histories[i].history['val_accuracy'], color = 'orange', label = 'test')\n",
        "  pyplot.show()"
      ],
      "execution_count": 6,
      "outputs": []
    },
    {
      "cell_type": "code",
      "metadata": {
        "id": "kojS322k2kxO"
      },
      "source": [
        "#Summarize model performance\n",
        "def summarize_performance(scores):\n",
        "  print('Accuracy: mean=%0.3f, std=%0.3f, n=%d' % (mean(scores)*100, std(scores)*100, len(scores)))\n",
        "  pyplot.boxplot(scores)\n",
        "  pyplot.show()"
      ],
      "execution_count": 7,
      "outputs": []
    },
    {
      "cell_type": "code",
      "metadata": {
        "id": "LzHguZ1H3i-L"
      },
      "source": [
        "# Run the test harness for evaluating model\n",
        "\n",
        "def run_test_harness():\n",
        "  trainX, trainY, testX, testY = load_dataset()\n",
        "  trainX, testX = prep_pixels(trainX, testX)\n",
        "  scores, histories = evaluate_model(trainX, trainY)\n",
        "  summarize_diagnostics(histories)\n",
        "  summarize_performance(scores)\n"
      ],
      "execution_count": 8,
      "outputs": []
    },
    {
      "cell_type": "code",
      "metadata": {
        "colab": {
          "base_uri": "https://localhost:8080/",
          "height": 723
        },
        "id": "lTleB4TB4Weg",
        "outputId": "85e071b0-2e08-4d28-db58-af4b0096a335"
      },
      "source": [
        "# Run the test harness function\n",
        "run_test_harness()"
      ],
      "execution_count": 9,
      "outputs": [
        {
          "output_type": "stream",
          "text": [
            "> 98.467\n",
            "> 98.633\n",
            "> 98.600\n",
            "> 98.817\n",
            "> 98.592\n"
          ],
          "name": "stdout"
        },
        {
          "output_type": "stream",
          "text": [
            "/usr/local/lib/python3.7/dist-packages/ipykernel_launcher.py:5: MatplotlibDeprecationWarning: Adding an axes using the same arguments as a previous axes currently reuses the earlier instance.  In a future version, a new instance will always be created and returned.  Meanwhile, this warning can be suppressed, and the future behavior ensured, by passing a unique label to each axes instance.\n",
            "  \"\"\"\n",
            "/usr/local/lib/python3.7/dist-packages/ipykernel_launcher.py:9: MatplotlibDeprecationWarning: Adding an axes using the same arguments as a previous axes currently reuses the earlier instance.  In a future version, a new instance will always be created and returned.  Meanwhile, this warning can be suppressed, and the future behavior ensured, by passing a unique label to each axes instance.\n",
            "  if __name__ == '__main__':\n"
          ],
          "name": "stderr"
        },
        {
          "output_type": "display_data",
          "data": {
            "image/png": "[encoded data removed]",
            "text/plain": [
              "<Figure size 432x288 with 2 Axes>"
            ]
          },
          "metadata": {
            "tags": [],
            "needs_background": "light"
          }
        },
        {
          "output_type": "stream",
          "text": [
            "Accuracy: mean=98.622, std=0.113, n=5\n"
          ],
          "name": "stdout"
        },
        {
          "output_type": "display_data",
          "data": {
            "image/png": "[encoded data removed]",
            "text/plain": [
              "<Figure size 432x288 with 1 Axes>"
            ]
          },
          "metadata": {
            "tags": [],
            "needs_background": "light"
          }
        }
      ]
    }
  ]
}