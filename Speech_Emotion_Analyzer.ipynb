{
 "cells": [
  {
   "cell_type": "code",
   "execution_count": 8,
   "metadata": {},
   "outputs": [
    {
     "name": "stdout",
     "output_type": "stream",
     "text": [
      "Python 3.7.4\n"
     ]
    }
   ],
   "source": [
    "# Check your Python version\n",
    "!python --version"
   ]
  },
  {
   "cell_type": "code",
   "execution_count": 9,
   "metadata": {},
   "outputs": [
    {
     "name": "stdout",
     "output_type": "stream",
     "text": [
      "* recording\n",
      "* done recording\n"
     ]
    }
   ],
   "source": [
    "\"\"\"\n",
    "Code borrowed from: \n",
    "\"https://github.com/MITESHPUTHRANNEU/Speech-Emotion-Analyzer\"\n",
    "\"https://github.com/MITESHPUTHRANNEU/Speech-Emotion-Analyzer/blob/master/saved_models/Emotion_Voice_Detection_Model.h5\"\n",
    "\"https://github.com/MITESHPUTHRANNEU/Speech-Emotion-Analyzer/blob/master/AudioRecorder.ipynb\"\n",
    "\"\"\"\n",
    "\n",
    "# Record and save a 4s recording as a WAV file named \"output10\", in the same location as this notebook file\n",
    "\n",
    "import pyaudio\n",
    "import wave\n",
    "\n",
    "CHUNK = 1024 \n",
    "FORMAT = pyaudio.paInt16 #paInt8\n",
    "CHANNELS = 2 \n",
    "RATE = 44100 #sample rate\n",
    "RECORD_SECONDS = 4\n",
    "WAVE_OUTPUT_FILENAME = \"output10.wav\"\n",
    "\n",
    "p = pyaudio.PyAudio()\n",
    "\n",
    "stream = p.open(format=FORMAT,\n",
    "                channels=CHANNELS,\n",
    "                rate=RATE,\n",
    "                input=True,\n",
    "                frames_per_buffer=CHUNK) #buffer\n",
    "\n",
    "print(\"* recording\")\n",
    "\n",
    "frames = []\n",
    "\n",
    "for i in range(0, int(RATE / CHUNK * RECORD_SECONDS)):\n",
    "    data = stream.read(CHUNK)\n",
    "    frames.append(data) # 2 bytes(16 bits) per channel\n",
    "\n",
    "print(\"* done recording\")\n",
    "\n",
    "stream.stop_stream()\n",
    "stream.close()\n",
    "p.terminate()\n",
    "\n",
    "wf = wave.open(WAVE_OUTPUT_FILENAME, 'wb')\n",
    "wf.setnchannels(CHANNELS)\n",
    "wf.setsampwidth(p.get_sample_size(FORMAT))\n",
    "wf.setframerate(RATE)\n",
    "wf.writeframes(b''.join(frames))\n",
    "wf.close()"
   ]
  },
  {
   "cell_type": "code",
   "execution_count": 10,
   "metadata": {},
   "outputs": [
    {
     "name": "stdout",
     "output_type": "stream",
     "text": [
      "Requirement already satisfied: librosa in c:\\users\\geeta mirchandani\\appdata\\roaming\\python\\python37\\site-packages (0.8.1)\n",
      "Requirement already satisfied: audioread>=2.0.0 in c:\\programdata\\anaconda3\\lib\\site-packages (from librosa) (2.1.9)\n",
      "Requirement already satisfied: scipy>=1.0.0 in c:\\programdata\\anaconda3\\lib\\site-packages (from librosa) (1.3.1)\n",
      "Requirement already satisfied: joblib>=0.14 in c:\\users\\geeta mirchandani\\appdata\\roaming\\python\\python37\\site-packages (from librosa) (1.0.1)\n",
      "Requirement already satisfied: numpy>=1.15.0 in c:\\programdata\\anaconda3\\lib\\site-packages (from librosa) (1.16.5)\n",
      "Requirement already satisfied: packaging>=20.0 in c:\\users\\geeta mirchandani\\appdata\\roaming\\python\\python37\\site-packages (from librosa) (21.0)\n",
      "Requirement already satisfied: numba>=0.43.0 in c:\\programdata\\anaconda3\\lib\\site-packages (from librosa) (0.45.1)\n",
      "Requirement already satisfied: soundfile>=0.10.2 in c:\\programdata\\anaconda3\\lib\\site-packages (from librosa) (0.10.3.post1)\n",
      "Requirement already satisfied: resampy>=0.2.2 in c:\\programdata\\anaconda3\\lib\\site-packages (from librosa) (0.2.2)\n",
      "Requirement already satisfied: decorator>=3.0.0 in c:\\programdata\\anaconda3\\lib\\site-packages (from librosa) (4.4.0)\n",
      "Requirement already satisfied: scikit-learn!=0.19.0,>=0.14.0 in c:\\programdata\\anaconda3\\lib\\site-packages (from librosa) (0.21.3)\n",
      "Requirement already satisfied: pooch>=1.0 in c:\\users\\geeta mirchandani\\appdata\\roaming\\python\\python37\\site-packages (from librosa) (1.4.0)\n",
      "Requirement already satisfied: pyparsing>=2.0.2 in c:\\programdata\\anaconda3\\lib\\site-packages (from packaging>=20.0->librosa) (2.4.2)\n",
      "Requirement already satisfied: llvmlite>=0.29.0dev0 in c:\\programdata\\anaconda3\\lib\\site-packages (from numba>=0.43.0->librosa) (0.29.0)\n",
      "Requirement already satisfied: cffi>=1.0 in c:\\programdata\\anaconda3\\lib\\site-packages (from soundfile>=0.10.2->librosa) (1.12.3)\n",
      "Requirement already satisfied: six>=1.3 in c:\\programdata\\anaconda3\\lib\\site-packages (from resampy>=0.2.2->librosa) (1.12.0)\n",
      "Requirement already satisfied: appdirs in c:\\users\\geeta mirchandani\\appdata\\roaming\\python\\python37\\site-packages (from pooch>=1.0->librosa) (1.4.4)\n",
      "Requirement already satisfied: requests in c:\\programdata\\anaconda3\\lib\\site-packages (from pooch>=1.0->librosa) (2.22.0)\n",
      "Requirement already satisfied: pycparser in c:\\programdata\\anaconda3\\lib\\site-packages (from cffi>=1.0->soundfile>=0.10.2->librosa) (2.19)\n",
      "Requirement already satisfied: urllib3!=1.25.0,!=1.25.1,<1.26,>=1.21.1 in c:\\programdata\\anaconda3\\lib\\site-packages (from requests->pooch>=1.0->librosa) (1.24.2)\n",
      "Requirement already satisfied: idna<2.9,>=2.5 in c:\\programdata\\anaconda3\\lib\\site-packages (from requests->pooch>=1.0->librosa) (2.8)\n",
      "Requirement already satisfied: certifi>=2017.4.17 in c:\\programdata\\anaconda3\\lib\\site-packages (from requests->pooch>=1.0->librosa) (2019.9.11)\n",
      "Requirement already satisfied: chardet<3.1.0,>=3.0.2 in c:\\programdata\\anaconda3\\lib\\site-packages (from requests->pooch>=1.0->librosa) (3.0.4)\n"
     ]
    }
   ],
   "source": [
    "!pip install librosa --user"
   ]
  },
  {
   "cell_type": "code",
   "execution_count": 11,
   "metadata": {},
   "outputs": [],
   "source": [
    "import librosa"
   ]
  },
  {
   "cell_type": "code",
   "execution_count": 12,
   "metadata": {},
   "outputs": [],
   "source": [
    "from librosa.display import waveplot"
   ]
  },
  {
   "cell_type": "code",
   "execution_count": 13,
   "metadata": {},
   "outputs": [],
   "source": [
    "import matplotlib.pyplot as plt"
   ]
  },
  {
   "cell_type": "code",
   "execution_count": 14,
   "metadata": {},
   "outputs": [],
   "source": [
    "data, sampling_rate = librosa.load('output10.wav')"
   ]
  },
  {
   "cell_type": "code",
   "execution_count": 15,
   "metadata": {},
   "outputs": [
    {
     "data": {
      "text/plain": [
       "array([-0.00470597, -0.00701151, -0.00469061, ...,  0.0145565 ,\n",
       "        0.0053546 , -0.01533937], dtype=float32)"
      ]
     },
     "execution_count": 15,
     "metadata": {},
     "output_type": "execute_result"
    }
   ],
   "source": [
    "data"
   ]
  },
  {
   "cell_type": "code",
   "execution_count": 16,
   "metadata": {},
   "outputs": [
    {
     "data": {
      "text/plain": [
       "22050"
      ]
     },
     "execution_count": 16,
     "metadata": {},
     "output_type": "execute_result"
    }
   ],
   "source": [
    "sampling_rate"
   ]
  },
  {
   "cell_type": "code",
   "execution_count": 17,
   "metadata": {},
   "outputs": [],
   "source": [
    "import os\n",
    "import pandas as pd\n",
    "import librosa\n",
    "import glob "
   ]
  },
  {
   "cell_type": "code",
   "execution_count": 18,
   "metadata": {},
   "outputs": [
    {
     "data": {
      "text/plain": [
       "<matplotlib.collections.PolyCollection at 0x286ee7e9188>"
      ]
     },
     "execution_count": 18,
     "metadata": {},
     "output_type": "execute_result"
    },
    {
     "data": {
      "image/png": "[encoded data removed]",
      "text/plain": [
       "<Figure size 1080x360 with 1 Axes>"
      ]
     },
     "metadata": {
      "needs_background": "light"
     },
     "output_type": "display_data"
    }
   ],
   "source": [
    "# Import our recording (\"output10.wav\") and plot the waveform\n",
    "\n",
    "\n",
    "plt.figure(figsize=(15, 5))\n",
    "waveplot(data, sr=sampling_rate)"
   ]
  },
  {
   "cell_type": "code",
   "execution_count": 19,
   "metadata": {},
   "outputs": [],
   "source": [
    "# Extract audio features (MFCCs) into a Numpy array\n",
    "import numpy as np\n",
    "\n",
    "#livedf= pd.DataFrame(columns=['feature'])\n",
    "X, sample_rate = librosa.load('output10.wav', res_type='kaiser_fast',duration=2.5,sr=22050*2,offset=0.5)\n",
    "sample_rate = np.array(sample_rate)\n",
    "mfccs = np.mean(librosa.feature.mfcc(y=X, sr=sample_rate, n_mfcc=13),axis=0)\n",
    "featurelive = mfccs\n",
    "livedf2 = featurelive"
   ]
  },
  {
   "cell_type": "code",
   "execution_count": 20,
   "metadata": {},
   "outputs": [
    {
     "data": {
      "text/html": [
       "<div>\n",
       "<style scoped>\n",
       "    .dataframe tbody tr th:only-of-type {\n",
       "        vertical-align: middle;\n",
       "    }\n",
       "\n",
       "    .dataframe tbody tr th {\n",
       "        vertical-align: top;\n",
       "    }\n",
       "\n",
       "    .dataframe thead th {\n",
       "        text-align: right;\n",
       "    }\n",
       "</style>\n",
       "<table border=\"1\" class=\"dataframe\">\n",
       "  <thead>\n",
       "    <tr style=\"text-align: right;\">\n",
       "      <th></th>\n",
       "      <th>0</th>\n",
       "    </tr>\n",
       "  </thead>\n",
       "  <tbody>\n",
       "    <tr>\n",
       "      <td>0</td>\n",
       "      <td>-26.881493</td>\n",
       "    </tr>\n",
       "    <tr>\n",
       "      <td>1</td>\n",
       "      <td>-28.062004</td>\n",
       "    </tr>\n",
       "    <tr>\n",
       "      <td>2</td>\n",
       "      <td>-31.067251</td>\n",
       "    </tr>\n",
       "    <tr>\n",
       "      <td>3</td>\n",
       "      <td>-29.556404</td>\n",
       "    </tr>\n",
       "    <tr>\n",
       "      <td>4</td>\n",
       "      <td>-28.294233</td>\n",
       "    </tr>\n",
       "    <tr>\n",
       "      <td>...</td>\n",
       "      <td>...</td>\n",
       "    </tr>\n",
       "    <tr>\n",
       "      <td>211</td>\n",
       "      <td>-29.090309</td>\n",
       "    </tr>\n",
       "    <tr>\n",
       "      <td>212</td>\n",
       "      <td>-29.561419</td>\n",
       "    </tr>\n",
       "    <tr>\n",
       "      <td>213</td>\n",
       "      <td>-30.001347</td>\n",
       "    </tr>\n",
       "    <tr>\n",
       "      <td>214</td>\n",
       "      <td>-25.481131</td>\n",
       "    </tr>\n",
       "    <tr>\n",
       "      <td>215</td>\n",
       "      <td>-22.530733</td>\n",
       "    </tr>\n",
       "  </tbody>\n",
       "</table>\n",
       "<p>216 rows × 1 columns</p>\n",
       "</div>"
      ],
      "text/plain": [
       "             0\n",
       "0   -26.881493\n",
       "1   -28.062004\n",
       "2   -31.067251\n",
       "3   -29.556404\n",
       "4   -28.294233\n",
       "..         ...\n",
       "211 -29.090309\n",
       "212 -29.561419\n",
       "213 -30.001347\n",
       "214 -25.481131\n",
       "215 -22.530733\n",
       "\n",
       "[216 rows x 1 columns]"
      ]
     },
     "execution_count": 20,
     "metadata": {},
     "output_type": "execute_result"
    }
   ],
   "source": [
    "# Transfer data from Numpy array to Pandas dataframe\n",
    "livedf2= pd.DataFrame(data=livedf2)\n",
    "livedf2"
   ]
  },
  {
   "cell_type": "code",
   "execution_count": 21,
   "metadata": {},
   "outputs": [],
   "source": [
    "# Transpose dataframe so that rows become columns and columns become rows\n",
    "livedf2 = livedf2.stack().to_frame().T"
   ]
  },
  {
   "cell_type": "code",
   "execution_count": 22,
   "metadata": {},
   "outputs": [
    {
     "data": {
      "text/html": [
       "<div>\n",
       "<style scoped>\n",
       "    .dataframe tbody tr th:only-of-type {\n",
       "        vertical-align: middle;\n",
       "    }\n",
       "\n",
       "    .dataframe tbody tr th {\n",
       "        vertical-align: top;\n",
       "    }\n",
       "\n",
       "    .dataframe thead tr th {\n",
       "        text-align: left;\n",
       "    }\n",
       "</style>\n",
       "<table border=\"1\" class=\"dataframe\">\n",
       "  <thead>\n",
       "    <tr>\n",
       "      <th></th>\n",
       "      <th>0</th>\n",
       "      <th>1</th>\n",
       "      <th>2</th>\n",
       "      <th>3</th>\n",
       "      <th>4</th>\n",
       "      <th>5</th>\n",
       "      <th>6</th>\n",
       "      <th>7</th>\n",
       "      <th>8</th>\n",
       "      <th>9</th>\n",
       "      <th>...</th>\n",
       "      <th>206</th>\n",
       "      <th>207</th>\n",
       "      <th>208</th>\n",
       "      <th>209</th>\n",
       "      <th>210</th>\n",
       "      <th>211</th>\n",
       "      <th>212</th>\n",
       "      <th>213</th>\n",
       "      <th>214</th>\n",
       "      <th>215</th>\n",
       "    </tr>\n",
       "    <tr>\n",
       "      <th></th>\n",
       "      <th>0</th>\n",
       "      <th>0</th>\n",
       "      <th>0</th>\n",
       "      <th>0</th>\n",
       "      <th>0</th>\n",
       "      <th>0</th>\n",
       "      <th>0</th>\n",
       "      <th>0</th>\n",
       "      <th>0</th>\n",
       "      <th>0</th>\n",
       "      <th>...</th>\n",
       "      <th>0</th>\n",
       "      <th>0</th>\n",
       "      <th>0</th>\n",
       "      <th>0</th>\n",
       "      <th>0</th>\n",
       "      <th>0</th>\n",
       "      <th>0</th>\n",
       "      <th>0</th>\n",
       "      <th>0</th>\n",
       "      <th>0</th>\n",
       "    </tr>\n",
       "  </thead>\n",
       "  <tbody>\n",
       "    <tr>\n",
       "      <td>0</td>\n",
       "      <td>-26.881493</td>\n",
       "      <td>-28.062004</td>\n",
       "      <td>-31.067251</td>\n",
       "      <td>-29.556404</td>\n",
       "      <td>-28.294233</td>\n",
       "      <td>-28.909294</td>\n",
       "      <td>-29.808199</td>\n",
       "      <td>-29.888292</td>\n",
       "      <td>-29.174473</td>\n",
       "      <td>-29.004829</td>\n",
       "      <td>...</td>\n",
       "      <td>-29.953491</td>\n",
       "      <td>-27.892208</td>\n",
       "      <td>-27.807529</td>\n",
       "      <td>-28.476875</td>\n",
       "      <td>-27.84849</td>\n",
       "      <td>-29.090309</td>\n",
       "      <td>-29.561419</td>\n",
       "      <td>-30.001347</td>\n",
       "      <td>-25.481131</td>\n",
       "      <td>-22.530733</td>\n",
       "    </tr>\n",
       "  </tbody>\n",
       "</table>\n",
       "<p>1 rows × 216 columns</p>\n",
       "</div>"
      ],
      "text/plain": [
       "         0          1          2          3          4          5    \\\n",
       "           0          0          0          0          0          0   \n",
       "0 -26.881493 -28.062004 -31.067251 -29.556404 -28.294233 -28.909294   \n",
       "\n",
       "         6          7          8          9    ...        206        207  \\\n",
       "           0          0          0          0  ...          0          0   \n",
       "0 -29.808199 -29.888292 -29.174473 -29.004829  ... -29.953491 -27.892208   \n",
       "\n",
       "         208        209       210        211        212        213        214  \\\n",
       "           0          0         0          0          0          0          0   \n",
       "0 -27.807529 -28.476875 -27.84849 -29.090309 -29.561419 -30.001347 -25.481131   \n",
       "\n",
       "         215  \n",
       "           0  \n",
       "0 -22.530733  \n",
       "\n",
       "[1 rows x 216 columns]"
      ]
     },
     "execution_count": 22,
     "metadata": {},
     "output_type": "execute_result"
    }
   ],
   "source": [
    "livedf2"
   ]
  },
  {
   "cell_type": "code",
   "execution_count": 23,
   "metadata": {},
   "outputs": [
    {
     "data": {
      "text/plain": [
       "array([[[-26.881493],\n",
       "        [-28.062004],\n",
       "        [-31.067251],\n",
       "        [-29.556404],\n",
       "        [-28.294233],\n",
       "        [-28.909294],\n",
       "        [-29.808199],\n",
       "        [-29.888292],\n",
       "        [-29.174473],\n",
       "        [-29.00483 ],\n",
       "        [-28.243208],\n",
       "        [-29.141233],\n",
       "        [-30.571495],\n",
       "        [-29.94238 ],\n",
       "        [-29.751478],\n",
       "        [-29.149601],\n",
       "        [-28.52225 ],\n",
       "        [-29.571165],\n",
       "        [-28.348682],\n",
       "        [-29.872343],\n",
       "        [-29.393808],\n",
       "        [-29.580101],\n",
       "        [-29.419443],\n",
       "        [-27.710957],\n",
       "        [-26.28172 ],\n",
       "        [-28.006023],\n",
       "        [-30.878183],\n",
       "        [-30.33032 ],\n",
       "        [-29.590555],\n",
       "        [-30.235086],\n",
       "        [-29.268724],\n",
       "        [-30.147997],\n",
       "        [-31.845316],\n",
       "        [-32.315598],\n",
       "        [-31.123417],\n",
       "        [-30.845646],\n",
       "        [-33.095768],\n",
       "        [-31.070387],\n",
       "        [-31.187756],\n",
       "        [-31.610775],\n",
       "        [-31.426636],\n",
       "        [-31.94186 ],\n",
       "        [-30.02364 ],\n",
       "        [-28.750305],\n",
       "        [-28.3767  ],\n",
       "        [-30.001156],\n",
       "        [-29.692402],\n",
       "        [-27.37919 ],\n",
       "        [-26.503836],\n",
       "        [-27.515968],\n",
       "        [-29.375654],\n",
       "        [-30.853518],\n",
       "        [-31.279985],\n",
       "        [-29.86415 ],\n",
       "        [-29.148802],\n",
       "        [-28.912874],\n",
       "        [-30.297367],\n",
       "        [-30.272583],\n",
       "        [-29.703249],\n",
       "        [-29.031097],\n",
       "        [-30.543226],\n",
       "        [-30.07972 ],\n",
       "        [-32.2201  ],\n",
       "        [-32.779156],\n",
       "        [-31.187538],\n",
       "        [-29.228004],\n",
       "        [-29.138615],\n",
       "        [-30.236868],\n",
       "        [-29.995888],\n",
       "        [-30.449251],\n",
       "        [-30.5632  ],\n",
       "        [-29.536787],\n",
       "        [-29.800282],\n",
       "        [-30.10118 ],\n",
       "        [-31.126535],\n",
       "        [-30.867397],\n",
       "        [-31.033672],\n",
       "        [-30.26305 ],\n",
       "        [-31.085508],\n",
       "        [-29.413605],\n",
       "        [-28.54609 ],\n",
       "        [-20.790884],\n",
       "        [-16.85288 ],\n",
       "        [-15.501288],\n",
       "        [-18.565098],\n",
       "        [-25.003115],\n",
       "        [-30.1307  ],\n",
       "        [-29.835558],\n",
       "        [-28.886475],\n",
       "        [-28.534346],\n",
       "        [-30.689678],\n",
       "        [-29.88438 ],\n",
       "        [-30.174856],\n",
       "        [-31.298397],\n",
       "        [-29.06388 ],\n",
       "        [-18.961813],\n",
       "        [-16.205082],\n",
       "        [-15.840779],\n",
       "        [-18.71442 ],\n",
       "        [-22.325718],\n",
       "        [-28.208801],\n",
       "        [-25.829762],\n",
       "        [-24.228352],\n",
       "        [-25.421583],\n",
       "        [-27.59943 ],\n",
       "        [-26.085035],\n",
       "        [-26.569122],\n",
       "        [-26.705166],\n",
       "        [-27.658518],\n",
       "        [-29.944897],\n",
       "        [-31.564598],\n",
       "        [-30.18645 ],\n",
       "        [-27.1268  ],\n",
       "        [-26.671558],\n",
       "        [-26.148052],\n",
       "        [-26.758562],\n",
       "        [-29.393198],\n",
       "        [-29.896036],\n",
       "        [-29.09259 ],\n",
       "        [-29.562782],\n",
       "        [-27.899454],\n",
       "        [-24.560163],\n",
       "        [-25.637836],\n",
       "        [-29.205772],\n",
       "        [-30.32955 ],\n",
       "        [-30.117626],\n",
       "        [-30.446472],\n",
       "        [-30.170471],\n",
       "        [-27.949108],\n",
       "        [-26.65402 ],\n",
       "        [-26.225594],\n",
       "        [-27.697735],\n",
       "        [-30.81466 ],\n",
       "        [-31.650452],\n",
       "        [-31.53673 ],\n",
       "        [-30.326077],\n",
       "        [-28.301878],\n",
       "        [-28.750772],\n",
       "        [-29.516275],\n",
       "        [-28.537752],\n",
       "        [-28.757793],\n",
       "        [-31.831905],\n",
       "        [-31.016357],\n",
       "        [-27.783304],\n",
       "        [-28.842949],\n",
       "        [-30.558964],\n",
       "        [-32.010986],\n",
       "        [-32.20749 ],\n",
       "        [-31.441833],\n",
       "        [-30.576973],\n",
       "        [-29.28914 ],\n",
       "        [-29.981316],\n",
       "        [-32.295986],\n",
       "        [-31.49888 ],\n",
       "        [-31.625336],\n",
       "        [-32.589718],\n",
       "        [-31.105196],\n",
       "        [-29.644114],\n",
       "        [-28.842821],\n",
       "        [-27.570381],\n",
       "        [-27.381937],\n",
       "        [-28.638752],\n",
       "        [-30.379833],\n",
       "        [-30.161076],\n",
       "        [-29.095348],\n",
       "        [-29.71939 ],\n",
       "        [-31.987257],\n",
       "        [-29.44501 ],\n",
       "        [-29.085293],\n",
       "        [-29.938093],\n",
       "        [-26.39227 ],\n",
       "        [-26.577396],\n",
       "        [-26.528118],\n",
       "        [-26.17674 ],\n",
       "        [-27.757183],\n",
       "        [-29.054695],\n",
       "        [-28.323494],\n",
       "        [-29.494633],\n",
       "        [-30.68137 ],\n",
       "        [-30.033466],\n",
       "        [-30.581272],\n",
       "        [-28.922007],\n",
       "        [-27.982897],\n",
       "        [-27.563354],\n",
       "        [-27.202261],\n",
       "        [-26.452274],\n",
       "        [-28.387508],\n",
       "        [-30.41489 ],\n",
       "        [-29.619568],\n",
       "        [-28.619804],\n",
       "        [-28.920805],\n",
       "        [-30.072506],\n",
       "        [-28.837551],\n",
       "        [-28.041384],\n",
       "        [-27.107151],\n",
       "        [-29.306847],\n",
       "        [-30.943289],\n",
       "        [-27.250496],\n",
       "        [-27.812145],\n",
       "        [-28.60447 ],\n",
       "        [-28.233858],\n",
       "        [-27.194954],\n",
       "        [-26.192701],\n",
       "        [-25.055277],\n",
       "        [-26.992023],\n",
       "        [-29.257822],\n",
       "        [-29.953491],\n",
       "        [-27.892208],\n",
       "        [-27.80753 ],\n",
       "        [-28.476875],\n",
       "        [-27.84849 ],\n",
       "        [-29.09031 ],\n",
       "        [-29.561419],\n",
       "        [-30.001347],\n",
       "        [-25.48113 ],\n",
       "        [-22.530733]]], dtype=float32)"
      ]
     },
     "execution_count": 23,
     "metadata": {},
     "output_type": "execute_result"
    }
   ],
   "source": [
    "# Take data into Numpy array and add another dimension\n",
    "twodim= np.expand_dims(livedf2, axis=2)\n",
    "twodim"
   ]
  },
  {
   "cell_type": "code",
   "execution_count": 28,
   "metadata": {},
   "outputs": [],
   "source": [
    "# Load in the pretrained H5 model called \"Emotion_Voice_Detection_Model\", the one we downloaded from \"https://github.com/MITESHPUTHRANNEU/Speech-Emotion-Analyzer\"\n",
    "\n",
    "import tensorflow as tf\n",
    "loaded_model = tf.keras.models.load_model(r'C:\\Users\\Geeta Mirchandani\\Downloads\\RawData\\Emotion_Voice_Detection_Model.h5')"
   ]
  },
  {
   "cell_type": "code",
   "execution_count": 29,
   "metadata": {},
   "outputs": [
    {
     "name": "stdout",
     "output_type": "stream",
     "text": [
      "1/1 [==============================] - 0s 49ms/sample\n"
     ]
    }
   ],
   "source": [
    "# Let the H5 model make the prediction on our audio features (MFCCs)\n",
    "livepreds = loaded_model.predict(twodim, \n",
    "                         batch_size=32, \n",
    "                         verbose=1)"
   ]
  },
  {
   "cell_type": "code",
   "execution_count": 30,
   "metadata": {},
   "outputs": [
    {
     "data": {
      "text/plain": [
       "array([[1.2884913e-02, 4.3674541e-07, 9.5726532e-01, 2.5989497e-02,\n",
       "        3.8444635e-03, 4.4773574e-07, 9.2931070e-18, 1.2807272e-05,\n",
       "        6.2981610e-07, 1.5014334e-06]], dtype=float32)"
      ]
     },
     "execution_count": 30,
     "metadata": {},
     "output_type": "execute_result"
    }
   ],
   "source": [
    "# Print out the percentage values of the output layer (Softmax output)\n",
    "livepreds"
   ]
  },
  {
   "cell_type": "code",
   "execution_count": 31,
   "metadata": {},
   "outputs": [
    {
     "name": "stdout",
     "output_type": "stream",
     "text": [
      "[2]\n"
     ]
    }
   ],
   "source": [
    "# Print out the label predicted by our H5 model\n",
    "livepreds1=livepreds.argmax(axis=1)\n",
    "print(livepreds1)"
   ]
  },
  {
   "cell_type": "code",
   "execution_count": 32,
   "metadata": {},
   "outputs": [
    {
     "name": "stdout",
     "output_type": "stream",
     "text": [
      "[2]\n"
     ]
    }
   ],
   "source": [
    "# Make sure the label is in integer format\n",
    "liveabc = livepreds1.astype(int).flatten()\n",
    "print(liveabc)"
   ]
  },
  {
   "cell_type": "code",
   "execution_count": 33,
   "metadata": {},
   "outputs": [
    {
     "name": "stdout",
     "output_type": "stream",
     "text": [
      "[0 1 2 3 4 5 6 7 8 9]\n"
     ]
    }
   ],
   "source": [
    "# Define the encoding of the ten string labels into their respective integer labels (0-9), according to the order of the original H5 project (\"https://github.com/MITESHPUTHRANNEU/Speech-Emotion-Analyzer\")\n",
    "from sklearn.preprocessing import LabelEncoder\n",
    "\n",
    "lb = LabelEncoder()\n",
    "str_labels = np.array([\"female_angry\", \"female_calm\", \"female_fearful\", \"female_happy\", \"female_sad\", \"male_angry\", \"male_calm\", \"male_fearful\", \"male_happy\", \"male_sad\"])\n",
    "int_labels = lb.fit_transform(str_labels)\n",
    "print(int_labels)"
   ]
  },
  {
   "cell_type": "code",
   "execution_count": 34,
   "metadata": {},
   "outputs": [
    {
     "name": "stdout",
     "output_type": "stream",
     "text": [
      "['female_fearful']\n"
     ]
    }
   ],
   "source": [
    "# Convert integer label to string label\n",
    "livepredictions = (lb.inverse_transform((liveabc)))\n",
    "print(livepredictions)"
   ]
  },
  {
   "cell_type": "code",
   "execution_count": null,
   "metadata": {},
   "outputs": [],
   "source": []
  }
 ],
 "metadata": {
  "kernelspec": {
   "display_name": "Python 3",
   "language": "python",
   "name": "python3"
  },
  "language_info": {
   "codemirror_mode": {
    "name": "ipython",
    "version": 3
   },
   "file_extension": ".py",
   "mimetype": "text/x-python",
   "name": "python",
   "nbconvert_exporter": "python",
   "pygments_lexer": "ipython3",
   "version": "3.7.4"
  }
 },
 "nbformat": 4,
 "nbformat_minor": 5
}
