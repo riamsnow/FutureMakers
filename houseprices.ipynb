{
  "nbformat": 4,
  "nbformat_minor": 0,
  "metadata": {
    "colab": {
      "name": "houseprices.ipynb",
      "provenance": [],
      "authorship_tag": "ABX9TyP3tI4M+JnUrzIhLHgVnizK",
      "include_colab_link": true
    },
    "kernelspec": {
      "name": "python3",
      "display_name": "Python 3"
    },
    "language_info": {
      "name": "python"
    }
  },
  "cells": [
    {
      "cell_type": "markdown",
      "metadata": {
        "id": "view-in-github",
        "colab_type": "text"
      },
      "source": [
        "<a href=\"https://colab.research.google.com/github/riamsnow/FutureMakers/blob/main/houseprices.ipynb\" target=\"_parent\"><img src=\"https://colab.research.google.com/assets/colab-badge.svg\" alt=\"Open In Colab\"/></a>"
      ]
    },
    {
      "cell_type": "code",
      "metadata": {
        "colab": {
          "base_uri": "https://localhost:8080/"
        },
        "id": "3aQ2WPuHaiJk",
        "outputId": "0b89750a-4bc9-4224-c1ba-3cc4c6dc1d04"
      },
      "source": [
        "from google.colab import drive\n",
        "drive.mount('/content/drive')"
      ],
      "execution_count": 2,
      "outputs": [
        {
          "output_type": "stream",
          "text": [
            "Mounted at /content/drive\n"
          ],
          "name": "stdout"
        }
      ]
    },
    {
      "cell_type": "code",
      "metadata": {
        "colab": {
          "base_uri": "https://localhost:8080/"
        },
        "id": "BbWtXrUibA-0",
        "outputId": "1c963311-f20b-4642-85e0-ac8527847934"
      },
      "source": [
        "cd \"/content/drive/My Drive/FutureMakers\""
      ],
      "execution_count": 5,
      "outputs": [
        {
          "output_type": "stream",
          "text": [
            "/content/drive/My Drive/FutureMakers\n"
          ],
          "name": "stdout"
        }
      ]
    },
    {
      "cell_type": "code",
      "metadata": {
        "id": "awTu0__mZOYp"
      },
      "source": [
        "import pandas as pd"
      ],
      "execution_count": 6,
      "outputs": []
    },
    {
      "cell_type": "code",
      "metadata": {
        "id": "PsKHeEAWZSu6"
      },
      "source": [
        "df = pd.read_csv('housepricedata.csv')"
      ],
      "execution_count": 7,
      "outputs": []
    },
    {
      "cell_type": "code",
      "metadata": {
        "id": "uOI6WdReZdjA"
      },
      "source": [
        "dataset = df.values"
      ],
      "execution_count": 8,
      "outputs": []
    },
    {
      "cell_type": "code",
      "metadata": {
        "colab": {
          "base_uri": "https://localhost:8080/"
        },
        "id": "Qj01JCeFZfdj",
        "outputId": "30d49cad-e27e-4164-c86b-f6bb734e65dd"
      },
      "source": [
        "dataset"
      ],
      "execution_count": 9,
      "outputs": [
        {
          "output_type": "execute_result",
          "data": {
            "text/plain": [
              "array([[ 8450,     7,     5, ...,     0,   548,     1],\n",
              "       [ 9600,     6,     8, ...,     1,   460,     1],\n",
              "       [11250,     7,     5, ...,     1,   608,     1],\n",
              "       ...,\n",
              "       [ 9042,     7,     9, ...,     2,   252,     1],\n",
              "       [ 9717,     5,     6, ...,     0,   240,     0],\n",
              "       [ 9937,     5,     6, ...,     0,   276,     0]])"
            ]
          },
          "metadata": {
            "tags": []
          },
          "execution_count": 9
        }
      ]
    },
    {
      "cell_type": "code",
      "metadata": {
        "id": "VR79j5MaZiC7"
      },
      "source": [
        "X = dataset[:,0:10]"
      ],
      "execution_count": 10,
      "outputs": []
    },
    {
      "cell_type": "code",
      "metadata": {
        "id": "vnYiN0luZnRU"
      },
      "source": [
        "Y = dataset[:,10]"
      ],
      "execution_count": 11,
      "outputs": []
    },
    {
      "cell_type": "code",
      "metadata": {
        "id": "HNC_u3Q3Zp8S"
      },
      "source": [
        "from sklearn import preprocessing"
      ],
      "execution_count": 12,
      "outputs": []
    },
    {
      "cell_type": "code",
      "metadata": {
        "id": "W3xmP23tZtbD"
      },
      "source": [
        "min_max_scaler = preprocessing.MinMaxScaler()\n",
        "X_scale = min_max_scaler.fit_transform(X)"
      ],
      "execution_count": 13,
      "outputs": []
    },
    {
      "cell_type": "code",
      "metadata": {
        "colab": {
          "base_uri": "https://localhost:8080/"
        },
        "id": "J0kuDx72Z2vY",
        "outputId": "d4e82e0d-c7ce-4324-c137-2e21707ef6ad"
      },
      "source": [
        "X_scale"
      ],
      "execution_count": 14,
      "outputs": [
        {
          "output_type": "execute_result",
          "data": {
            "text/plain": [
              "array([[0.0334198 , 0.66666667, 0.5       , ..., 0.5       , 0.        ,\n",
              "        0.3864598 ],\n",
              "       [0.03879502, 0.55555556, 0.875     , ..., 0.33333333, 0.33333333,\n",
              "        0.32440056],\n",
              "       [0.04650728, 0.66666667, 0.5       , ..., 0.33333333, 0.33333333,\n",
              "        0.42877292],\n",
              "       ...,\n",
              "       [0.03618687, 0.66666667, 1.        , ..., 0.58333333, 0.66666667,\n",
              "        0.17771509],\n",
              "       [0.03934189, 0.44444444, 0.625     , ..., 0.25      , 0.        ,\n",
              "        0.16925247],\n",
              "       [0.04037019, 0.44444444, 0.625     , ..., 0.33333333, 0.        ,\n",
              "        0.19464034]])"
            ]
          },
          "metadata": {
            "tags": []
          },
          "execution_count": 14
        }
      ]
    },
    {
      "cell_type": "code",
      "metadata": {
        "id": "-0NzGaxLZ3jt"
      },
      "source": [
        "from sklearn.model_selection import train_test_split"
      ],
      "execution_count": 15,
      "outputs": []
    },
    {
      "cell_type": "code",
      "metadata": {
        "id": "DkFmnGRpZ9Yg"
      },
      "source": [
        "X_train, X_val_and_test, Y_train, Y_val_and_test = train_test_split(X_scale, Y, test_size=0.3)"
      ],
      "execution_count": 16,
      "outputs": []
    },
    {
      "cell_type": "code",
      "metadata": {
        "id": "dZRkLajDaKPa"
      },
      "source": [
        "X_val, X_test, Y_val, Y_test = train_test_split(X_val_and_test, Y_val_and_test, test_size=0.5)"
      ],
      "execution_count": 17,
      "outputs": []
    },
    {
      "cell_type": "code",
      "metadata": {
        "colab": {
          "base_uri": "https://localhost:8080/"
        },
        "id": "TyzKSbG6aMn8",
        "outputId": "ea4bae1c-4f07-4785-d2ee-2ca177e9d2d5"
      },
      "source": [
        "print(X_train.shape, X_val.shape, X_test.shape, Y_train.shape, Y_val.shape, Y_test.shape)"
      ],
      "execution_count": 18,
      "outputs": [
        {
          "output_type": "stream",
          "text": [
            "(1022, 10) (219, 10) (219, 10) (1022,) (219,) (219,)\n"
          ],
          "name": "stdout"
        }
      ]
    },
    {
      "cell_type": "code",
      "metadata": {
        "id": "6gsRkaWaaRAU"
      },
      "source": [
        "from keras.models import Sequential\n",
        "from keras.layers import Dense"
      ],
      "execution_count": 19,
      "outputs": []
    },
    {
      "cell_type": "code",
      "metadata": {
        "id": "LHQGvRp3aS_h"
      },
      "source": [
        "model = Sequential([\n",
        "    Dense(32, activation='relu', input_shape=(10,)),\n",
        "    Dense(32, activation='relu'),\n",
        "    Dense(1, activation='sigmoid'),\n",
        "])"
      ],
      "execution_count": 20,
      "outputs": []
    },
    {
      "cell_type": "code",
      "metadata": {
        "id": "Ods21tHXaTmn"
      },
      "source": [
        "model.compile(optimizer='sgd',\n",
        "              loss='binary_crossentropy',\n",
        "              metrics=['accuracy'])"
      ],
      "execution_count": 21,
      "outputs": []
    },
    {
      "cell_type": "code",
      "metadata": {
        "colab": {
          "base_uri": "https://localhost:8080/"
        },
        "id": "nXZFgHfvaXcC",
        "outputId": "9eba67c9-8615-4913-92e0-e0fcbc18fa97"
      },
      "source": [
        "hist = model.fit(X_train, Y_train,\n",
        "          batch_size=32, epochs=100,\n",
        "          validation_data=(X_val, Y_val))"
      ],
      "execution_count": 22,
      "outputs": [
        {
          "output_type": "stream",
          "text": [
            "Epoch 1/100\n",
            "32/32 [==============================] - 15s 22ms/step - loss: 0.6969 - accuracy: 0.5165 - val_loss: 0.6874 - val_accuracy: 0.4840\n",
            "Epoch 2/100\n",
            "32/32 [==============================] - 0s 2ms/step - loss: 0.6843 - accuracy: 0.5440 - val_loss: 0.6754 - val_accuracy: 0.7306\n",
            "Epoch 3/100\n",
            "32/32 [==============================] - 0s 2ms/step - loss: 0.6734 - accuracy: 0.7246 - val_loss: 0.6640 - val_accuracy: 0.8082\n",
            "Epoch 4/100\n",
            "32/32 [==============================] - 0s 2ms/step - loss: 0.6649 - accuracy: 0.7737 - val_loss: 0.6532 - val_accuracy: 0.8037\n",
            "Epoch 5/100\n",
            "32/32 [==============================] - 0s 2ms/step - loss: 0.6562 - accuracy: 0.7985 - val_loss: 0.6431 - val_accuracy: 0.8128\n",
            "Epoch 6/100\n",
            "32/32 [==============================] - 0s 2ms/step - loss: 0.6433 - accuracy: 0.7849 - val_loss: 0.6339 - val_accuracy: 0.8082\n",
            "Epoch 7/100\n",
            "32/32 [==============================] - 0s 2ms/step - loss: 0.6379 - accuracy: 0.7699 - val_loss: 0.6241 - val_accuracy: 0.8082\n",
            "Epoch 8/100\n",
            "32/32 [==============================] - 0s 2ms/step - loss: 0.6309 - accuracy: 0.7780 - val_loss: 0.6147 - val_accuracy: 0.8082\n",
            "Epoch 9/100\n",
            "32/32 [==============================] - 0s 2ms/step - loss: 0.6199 - accuracy: 0.7940 - val_loss: 0.6053 - val_accuracy: 0.8037\n",
            "Epoch 10/100\n",
            "32/32 [==============================] - 0s 2ms/step - loss: 0.6108 - accuracy: 0.8032 - val_loss: 0.5952 - val_accuracy: 0.8082\n",
            "Epoch 11/100\n",
            "32/32 [==============================] - 0s 2ms/step - loss: 0.5942 - accuracy: 0.8226 - val_loss: 0.5853 - val_accuracy: 0.7991\n",
            "Epoch 12/100\n",
            "32/32 [==============================] - 0s 2ms/step - loss: 0.5916 - accuracy: 0.8071 - val_loss: 0.5754 - val_accuracy: 0.8037\n",
            "Epoch 13/100\n",
            "32/32 [==============================] - 0s 3ms/step - loss: 0.5841 - accuracy: 0.8024 - val_loss: 0.5666 - val_accuracy: 0.8128\n",
            "Epoch 14/100\n",
            "32/32 [==============================] - 0s 2ms/step - loss: 0.5745 - accuracy: 0.8309 - val_loss: 0.5573 - val_accuracy: 0.8128\n",
            "Epoch 15/100\n",
            "32/32 [==============================] - 0s 2ms/step - loss: 0.5584 - accuracy: 0.8275 - val_loss: 0.5483 - val_accuracy: 0.8174\n",
            "Epoch 16/100\n",
            "32/32 [==============================] - 0s 2ms/step - loss: 0.5550 - accuracy: 0.8235 - val_loss: 0.5389 - val_accuracy: 0.8219\n",
            "Epoch 17/100\n",
            "32/32 [==============================] - 0s 3ms/step - loss: 0.5444 - accuracy: 0.8172 - val_loss: 0.5302 - val_accuracy: 0.8265\n",
            "Epoch 18/100\n",
            "32/32 [==============================] - 0s 3ms/step - loss: 0.5358 - accuracy: 0.8241 - val_loss: 0.5213 - val_accuracy: 0.8356\n",
            "Epoch 19/100\n",
            "32/32 [==============================] - 0s 2ms/step - loss: 0.5256 - accuracy: 0.8280 - val_loss: 0.5121 - val_accuracy: 0.8356\n",
            "Epoch 20/100\n",
            "32/32 [==============================] - 0s 3ms/step - loss: 0.5086 - accuracy: 0.8373 - val_loss: 0.5030 - val_accuracy: 0.8447\n",
            "Epoch 21/100\n",
            "32/32 [==============================] - 0s 2ms/step - loss: 0.5125 - accuracy: 0.8347 - val_loss: 0.4936 - val_accuracy: 0.8402\n",
            "Epoch 22/100\n",
            "32/32 [==============================] - 0s 2ms/step - loss: 0.5034 - accuracy: 0.8458 - val_loss: 0.4849 - val_accuracy: 0.8402\n",
            "Epoch 23/100\n",
            "32/32 [==============================] - 0s 2ms/step - loss: 0.4949 - accuracy: 0.8361 - val_loss: 0.4770 - val_accuracy: 0.8447\n",
            "Epoch 24/100\n",
            "32/32 [==============================] - 0s 3ms/step - loss: 0.4861 - accuracy: 0.8327 - val_loss: 0.4688 - val_accuracy: 0.8493\n",
            "Epoch 25/100\n",
            "32/32 [==============================] - 0s 2ms/step - loss: 0.4764 - accuracy: 0.8428 - val_loss: 0.4608 - val_accuracy: 0.8539\n",
            "Epoch 26/100\n",
            "32/32 [==============================] - 0s 3ms/step - loss: 0.4531 - accuracy: 0.8593 - val_loss: 0.4528 - val_accuracy: 0.8493\n",
            "Epoch 27/100\n",
            "32/32 [==============================] - 0s 3ms/step - loss: 0.4447 - accuracy: 0.8447 - val_loss: 0.4463 - val_accuracy: 0.8584\n",
            "Epoch 28/100\n",
            "32/32 [==============================] - 0s 2ms/step - loss: 0.4417 - accuracy: 0.8521 - val_loss: 0.4391 - val_accuracy: 0.8584\n",
            "Epoch 29/100\n",
            "32/32 [==============================] - 0s 2ms/step - loss: 0.4332 - accuracy: 0.8637 - val_loss: 0.4326 - val_accuracy: 0.8584\n",
            "Epoch 30/100\n",
            "32/32 [==============================] - 0s 2ms/step - loss: 0.4184 - accuracy: 0.8580 - val_loss: 0.4264 - val_accuracy: 0.8584\n",
            "Epoch 31/100\n",
            "32/32 [==============================] - 0s 2ms/step - loss: 0.4279 - accuracy: 0.8480 - val_loss: 0.4205 - val_accuracy: 0.8584\n",
            "Epoch 32/100\n",
            "32/32 [==============================] - 0s 3ms/step - loss: 0.4058 - accuracy: 0.8669 - val_loss: 0.4156 - val_accuracy: 0.8630\n",
            "Epoch 33/100\n",
            "32/32 [==============================] - 0s 2ms/step - loss: 0.4083 - accuracy: 0.8687 - val_loss: 0.4085 - val_accuracy: 0.8584\n",
            "Epoch 34/100\n",
            "32/32 [==============================] - 0s 2ms/step - loss: 0.4101 - accuracy: 0.8624 - val_loss: 0.4032 - val_accuracy: 0.8539\n",
            "Epoch 35/100\n",
            "32/32 [==============================] - 0s 2ms/step - loss: 0.4188 - accuracy: 0.8391 - val_loss: 0.3985 - val_accuracy: 0.8584\n",
            "Epoch 36/100\n",
            "32/32 [==============================] - 0s 2ms/step - loss: 0.3965 - accuracy: 0.8538 - val_loss: 0.3947 - val_accuracy: 0.8721\n",
            "Epoch 37/100\n",
            "32/32 [==============================] - 0s 2ms/step - loss: 0.3861 - accuracy: 0.8681 - val_loss: 0.3896 - val_accuracy: 0.8539\n",
            "Epoch 38/100\n",
            "32/32 [==============================] - 0s 2ms/step - loss: 0.3846 - accuracy: 0.8553 - val_loss: 0.3853 - val_accuracy: 0.8493\n",
            "Epoch 39/100\n",
            "32/32 [==============================] - 0s 2ms/step - loss: 0.3821 - accuracy: 0.8644 - val_loss: 0.3831 - val_accuracy: 0.8721\n",
            "Epoch 40/100\n",
            "32/32 [==============================] - 0s 2ms/step - loss: 0.3656 - accuracy: 0.8742 - val_loss: 0.3791 - val_accuracy: 0.8721\n",
            "Epoch 41/100\n",
            "32/32 [==============================] - 0s 3ms/step - loss: 0.3842 - accuracy: 0.8544 - val_loss: 0.3753 - val_accuracy: 0.8676\n",
            "Epoch 42/100\n",
            "32/32 [==============================] - 0s 2ms/step - loss: 0.3683 - accuracy: 0.8687 - val_loss: 0.3718 - val_accuracy: 0.8676\n",
            "Epoch 43/100\n",
            "32/32 [==============================] - 0s 3ms/step - loss: 0.3520 - accuracy: 0.8643 - val_loss: 0.3688 - val_accuracy: 0.8584\n",
            "Epoch 44/100\n",
            "32/32 [==============================] - 0s 2ms/step - loss: 0.3665 - accuracy: 0.8565 - val_loss: 0.3663 - val_accuracy: 0.8676\n",
            "Epoch 45/100\n",
            "32/32 [==============================] - 0s 2ms/step - loss: 0.3546 - accuracy: 0.8649 - val_loss: 0.3641 - val_accuracy: 0.8721\n",
            "Epoch 46/100\n",
            "32/32 [==============================] - 0s 2ms/step - loss: 0.3408 - accuracy: 0.8731 - val_loss: 0.3613 - val_accuracy: 0.8676\n",
            "Epoch 47/100\n",
            "32/32 [==============================] - 0s 2ms/step - loss: 0.3711 - accuracy: 0.8467 - val_loss: 0.3590 - val_accuracy: 0.8676\n",
            "Epoch 48/100\n",
            "32/32 [==============================] - 0s 3ms/step - loss: 0.3428 - accuracy: 0.8707 - val_loss: 0.3571 - val_accuracy: 0.8676\n",
            "Epoch 49/100\n",
            "32/32 [==============================] - 0s 2ms/step - loss: 0.3492 - accuracy: 0.8634 - val_loss: 0.3553 - val_accuracy: 0.8676\n",
            "Epoch 50/100\n",
            "32/32 [==============================] - 0s 2ms/step - loss: 0.3337 - accuracy: 0.8640 - val_loss: 0.3538 - val_accuracy: 0.8721\n",
            "Epoch 51/100\n",
            "32/32 [==============================] - 0s 2ms/step - loss: 0.3481 - accuracy: 0.8542 - val_loss: 0.3512 - val_accuracy: 0.8721\n",
            "Epoch 52/100\n",
            "32/32 [==============================] - 0s 3ms/step - loss: 0.3394 - accuracy: 0.8659 - val_loss: 0.3498 - val_accuracy: 0.8676\n",
            "Epoch 53/100\n",
            "32/32 [==============================] - 0s 2ms/step - loss: 0.3340 - accuracy: 0.8670 - val_loss: 0.3483 - val_accuracy: 0.8676\n",
            "Epoch 54/100\n",
            "32/32 [==============================] - 0s 2ms/step - loss: 0.3315 - accuracy: 0.8586 - val_loss: 0.3464 - val_accuracy: 0.8676\n",
            "Epoch 55/100\n",
            "32/32 [==============================] - 0s 3ms/step - loss: 0.3395 - accuracy: 0.8544 - val_loss: 0.3451 - val_accuracy: 0.8676\n",
            "Epoch 56/100\n",
            "32/32 [==============================] - 0s 2ms/step - loss: 0.3262 - accuracy: 0.8608 - val_loss: 0.3436 - val_accuracy: 0.8676\n",
            "Epoch 57/100\n",
            "32/32 [==============================] - 0s 2ms/step - loss: 0.3304 - accuracy: 0.8547 - val_loss: 0.3427 - val_accuracy: 0.8676\n",
            "Epoch 58/100\n",
            "32/32 [==============================] - 0s 2ms/step - loss: 0.3206 - accuracy: 0.8733 - val_loss: 0.3411 - val_accuracy: 0.8676\n",
            "Epoch 59/100\n",
            "32/32 [==============================] - 0s 2ms/step - loss: 0.3091 - accuracy: 0.8762 - val_loss: 0.3402 - val_accuracy: 0.8676\n",
            "Epoch 60/100\n",
            "32/32 [==============================] - 0s 3ms/step - loss: 0.3270 - accuracy: 0.8610 - val_loss: 0.3395 - val_accuracy: 0.8721\n",
            "Epoch 61/100\n",
            "32/32 [==============================] - 0s 2ms/step - loss: 0.3176 - accuracy: 0.8656 - val_loss: 0.3400 - val_accuracy: 0.8721\n",
            "Epoch 62/100\n",
            "32/32 [==============================] - 0s 2ms/step - loss: 0.3180 - accuracy: 0.8665 - val_loss: 0.3367 - val_accuracy: 0.8721\n",
            "Epoch 63/100\n",
            "32/32 [==============================] - 0s 2ms/step - loss: 0.3223 - accuracy: 0.8580 - val_loss: 0.3358 - val_accuracy: 0.8630\n",
            "Epoch 64/100\n",
            "32/32 [==============================] - 0s 2ms/step - loss: 0.3086 - accuracy: 0.8821 - val_loss: 0.3350 - val_accuracy: 0.8630\n",
            "Epoch 65/100\n",
            "32/32 [==============================] - 0s 2ms/step - loss: 0.2939 - accuracy: 0.8789 - val_loss: 0.3339 - val_accuracy: 0.8676\n",
            "Epoch 66/100\n",
            "32/32 [==============================] - 0s 2ms/step - loss: 0.3299 - accuracy: 0.8573 - val_loss: 0.3336 - val_accuracy: 0.8676\n",
            "Epoch 67/100\n",
            "32/32 [==============================] - 0s 2ms/step - loss: 0.2972 - accuracy: 0.8794 - val_loss: 0.3325 - val_accuracy: 0.8630\n",
            "Epoch 68/100\n",
            "32/32 [==============================] - 0s 2ms/step - loss: 0.3022 - accuracy: 0.8628 - val_loss: 0.3315 - val_accuracy: 0.8767\n",
            "Epoch 69/100\n",
            "32/32 [==============================] - 0s 2ms/step - loss: 0.3282 - accuracy: 0.8594 - val_loss: 0.3318 - val_accuracy: 0.8676\n",
            "Epoch 70/100\n",
            "32/32 [==============================] - 0s 3ms/step - loss: 0.3380 - accuracy: 0.8512 - val_loss: 0.3301 - val_accuracy: 0.8676\n",
            "Epoch 71/100\n",
            "32/32 [==============================] - 0s 2ms/step - loss: 0.3226 - accuracy: 0.8532 - val_loss: 0.3295 - val_accuracy: 0.8676\n",
            "Epoch 72/100\n",
            "32/32 [==============================] - 0s 2ms/step - loss: 0.3011 - accuracy: 0.8796 - val_loss: 0.3286 - val_accuracy: 0.8721\n",
            "Epoch 73/100\n",
            "32/32 [==============================] - 0s 2ms/step - loss: 0.2784 - accuracy: 0.8972 - val_loss: 0.3279 - val_accuracy: 0.8721\n",
            "Epoch 74/100\n",
            "32/32 [==============================] - 0s 2ms/step - loss: 0.3100 - accuracy: 0.8733 - val_loss: 0.3273 - val_accuracy: 0.8721\n",
            "Epoch 75/100\n",
            "32/32 [==============================] - 0s 2ms/step - loss: 0.2922 - accuracy: 0.8860 - val_loss: 0.3267 - val_accuracy: 0.8721\n",
            "Epoch 76/100\n",
            "32/32 [==============================] - 0s 2ms/step - loss: 0.3075 - accuracy: 0.8715 - val_loss: 0.3261 - val_accuracy: 0.8721\n",
            "Epoch 77/100\n",
            "32/32 [==============================] - 0s 2ms/step - loss: 0.3196 - accuracy: 0.8639 - val_loss: 0.3255 - val_accuracy: 0.8721\n",
            "Epoch 78/100\n",
            "32/32 [==============================] - 0s 2ms/step - loss: 0.3219 - accuracy: 0.8682 - val_loss: 0.3250 - val_accuracy: 0.8721\n",
            "Epoch 79/100\n",
            "32/32 [==============================] - 0s 2ms/step - loss: 0.3008 - accuracy: 0.8727 - val_loss: 0.3244 - val_accuracy: 0.8721\n",
            "Epoch 80/100\n",
            "32/32 [==============================] - 0s 2ms/step - loss: 0.3007 - accuracy: 0.8799 - val_loss: 0.3241 - val_accuracy: 0.8767\n",
            "Epoch 81/100\n",
            "32/32 [==============================] - 0s 2ms/step - loss: 0.2834 - accuracy: 0.8940 - val_loss: 0.3234 - val_accuracy: 0.8721\n",
            "Epoch 82/100\n",
            "32/32 [==============================] - 0s 2ms/step - loss: 0.2963 - accuracy: 0.8720 - val_loss: 0.3230 - val_accuracy: 0.8721\n",
            "Epoch 83/100\n",
            "32/32 [==============================] - 0s 2ms/step - loss: 0.2980 - accuracy: 0.8782 - val_loss: 0.3232 - val_accuracy: 0.8767\n",
            "Epoch 84/100\n",
            "32/32 [==============================] - 0s 2ms/step - loss: 0.3245 - accuracy: 0.8626 - val_loss: 0.3228 - val_accuracy: 0.8767\n",
            "Epoch 85/100\n",
            "32/32 [==============================] - 0s 2ms/step - loss: 0.3091 - accuracy: 0.8699 - val_loss: 0.3228 - val_accuracy: 0.8721\n",
            "Epoch 86/100\n",
            "32/32 [==============================] - 0s 2ms/step - loss: 0.2952 - accuracy: 0.8836 - val_loss: 0.3223 - val_accuracy: 0.8721\n",
            "Epoch 87/100\n",
            "32/32 [==============================] - 0s 2ms/step - loss: 0.2991 - accuracy: 0.8810 - val_loss: 0.3208 - val_accuracy: 0.8721\n",
            "Epoch 88/100\n",
            "32/32 [==============================] - 0s 2ms/step - loss: 0.3085 - accuracy: 0.8749 - val_loss: 0.3203 - val_accuracy: 0.8767\n",
            "Epoch 89/100\n",
            "32/32 [==============================] - 0s 2ms/step - loss: 0.3054 - accuracy: 0.8675 - val_loss: 0.3205 - val_accuracy: 0.8813\n",
            "Epoch 90/100\n",
            "32/32 [==============================] - 0s 2ms/step - loss: 0.2917 - accuracy: 0.8861 - val_loss: 0.3195 - val_accuracy: 0.8767\n",
            "Epoch 91/100\n",
            "32/32 [==============================] - 0s 2ms/step - loss: 0.2795 - accuracy: 0.8880 - val_loss: 0.3200 - val_accuracy: 0.8721\n",
            "Epoch 92/100\n",
            "32/32 [==============================] - 0s 2ms/step - loss: 0.2867 - accuracy: 0.8821 - val_loss: 0.3190 - val_accuracy: 0.8858\n",
            "Epoch 93/100\n",
            "32/32 [==============================] - 0s 2ms/step - loss: 0.2785 - accuracy: 0.9015 - val_loss: 0.3186 - val_accuracy: 0.8721\n",
            "Epoch 94/100\n",
            "32/32 [==============================] - 0s 3ms/step - loss: 0.2793 - accuracy: 0.8913 - val_loss: 0.3195 - val_accuracy: 0.8676\n",
            "Epoch 95/100\n",
            "32/32 [==============================] - 0s 2ms/step - loss: 0.3079 - accuracy: 0.8811 - val_loss: 0.3182 - val_accuracy: 0.8858\n",
            "Epoch 96/100\n",
            "32/32 [==============================] - 0s 2ms/step - loss: 0.2973 - accuracy: 0.8849 - val_loss: 0.3175 - val_accuracy: 0.8767\n",
            "Epoch 97/100\n",
            "32/32 [==============================] - 0s 2ms/step - loss: 0.3099 - accuracy: 0.8689 - val_loss: 0.3183 - val_accuracy: 0.8767\n",
            "Epoch 98/100\n",
            "32/32 [==============================] - 0s 2ms/step - loss: 0.2776 - accuracy: 0.8928 - val_loss: 0.3172 - val_accuracy: 0.8676\n",
            "Epoch 99/100\n",
            "32/32 [==============================] - 0s 2ms/step - loss: 0.2473 - accuracy: 0.9064 - val_loss: 0.3166 - val_accuracy: 0.8767\n",
            "Epoch 100/100\n",
            "32/32 [==============================] - 0s 2ms/step - loss: 0.2843 - accuracy: 0.8887 - val_loss: 0.3162 - val_accuracy: 0.8767\n"
          ],
          "name": "stdout"
        }
      ]
    },
    {
      "cell_type": "code",
      "metadata": {
        "colab": {
          "base_uri": "https://localhost:8080/"
        },
        "id": "4neWr6FRaYKd",
        "outputId": "589d9c7a-6459-4820-9a4d-c9e76cdc6ccc"
      },
      "source": [
        "model.evaluate(X_test, Y_test)[1]"
      ],
      "execution_count": 23,
      "outputs": [
        {
          "output_type": "stream",
          "text": [
            "7/7 [==============================] - 0s 2ms/step - loss: 0.2306 - accuracy: 0.9132\n"
          ],
          "name": "stdout"
        },
        {
          "output_type": "execute_result",
          "data": {
            "text/plain": [
              "0.913241982460022"
            ]
          },
          "metadata": {
            "tags": []
          },
          "execution_count": 23
        }
      ]
    },
    {
      "cell_type": "code",
      "metadata": {
        "id": "K6zj2LZEcHXp"
      },
      "source": [
        "import matplotlib.pyplot as plt"
      ],
      "execution_count": 24,
      "outputs": []
    },
    {
      "cell_type": "code",
      "metadata": {
        "colab": {
          "base_uri": "https://localhost:8080/",
          "height": 295
        },
        "id": "cdTH6HWocKcc",
        "outputId": "a99063c9-d518-4973-d66b-fda214f608c9"
      },
      "source": [
        "plt.plot(hist.history['loss'])\n",
        "plt.plot(hist.history['val_loss'])\n",
        "plt.title('Model loss')\n",
        "plt.ylabel('Loss')\n",
        "plt.xlabel('Epoch')\n",
        "plt.legend(['Train', 'Val'], loc='upper right')\n",
        "plt.show()"
      ],
      "execution_count": 25,
      "outputs": [
        {
          "output_type": "display_data",
          "data": {
            "image/png": "[encoded data removed]",
            "text/plain": [
              "<Figure size 432x288 with 1 Axes>"
            ]
          },
          "metadata": {
            "tags": [],
            "needs_background": "light"
          }
        }
      ]
    }
  ]
}