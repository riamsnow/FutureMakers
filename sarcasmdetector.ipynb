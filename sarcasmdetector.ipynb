{
  "nbformat": 4,
  "nbformat_minor": 0,
  "metadata": {
    "kernelspec": {
      "language": "python",
      "display_name": "Python 3",
      "name": "python3"
    },
    "language_info": {
      "pygments_lexer": "ipython3",
      "nbconvert_exporter": "python",
      "version": "3.6.4",
      "file_extension": ".py",
      "codemirror_mode": {
        "name": "ipython",
        "version": 3
      },
      "name": "python",
      "mimetype": "text/x-python"
    },
    "colab": {
      "name": "sarcasmdetector.ipynb",
      "provenance": [],
      "include_colab_link": true
    },
    "accelerator": "GPU"
  },
  "cells": [
    {
      "cell_type": "markdown",
      "metadata": {
        "id": "view-in-github",
        "colab_type": "text"
      },
      "source": [
        "<a href=\"https://colab.research.google.com/github/riamsnow/FutureMakers/blob/main/sarcasmdetector.ipynb\" target=\"_parent\"><img src=\"https://colab.research.google.com/assets/colab-badge.svg\" alt=\"Open In Colab\"/></a>"
      ]
    },
    {
      "cell_type": "code",
      "metadata": {
        "id": "bY_SRZ-6eUGe",
        "colab": {
          "base_uri": "https://localhost:8080/"
        },
        "outputId": "61b6227a-c4f4-4b04-978b-ea4f83a3e2bf"
      },
      "source": [
        "from google.colab import drive\n",
        "drive.mount('/content/drive')"
      ],
      "execution_count": 1,
      "outputs": [
        {
          "output_type": "stream",
          "text": [
            "Mounted at /content/drive\n"
          ],
          "name": "stdout"
        }
      ]
    },
    {
      "cell_type": "code",
      "metadata": {
        "_uuid": "8f2839f25d086af736a60e9eeb907d3b93b6e0e5",
        "_cell_guid": "b1076dfc-b9ad-4769-8c92-a6c4dae69d19",
        "trusted": true,
        "id": "wvIHWn-uJUpw",
        "colab": {
          "base_uri": "https://localhost:8080/"
        },
        "outputId": "dfafc40b-c599-4f9c-aff4-20966bb8f17d"
      },
      "source": [
        "# This Python 3 environment comes with many helpful analytics libraries installed\n",
        "# It is defined by the kaggle/python Docker image: https://github.com/kaggle/docker-python\n",
        "# For example, here's several helpful packages to load\n",
        "\n",
        "import numpy as np # linear algebra\n",
        "import pandas as pd # data processing, CSV file I/O (e.g. pd.read_csv)\n",
        "\n",
        "# Input data files are available in the read-only \"../input/\" directory\n",
        "# For example, running this (by clicking run or pressing Shift+Enter) will list all files under the input directory\n",
        "\n",
        "import os\n",
        "for dirname, _, filenames in os.walk('/content/drive/My Drive/FutureMakers'):\n",
        "    for filename in filenames:\n",
        "        print(os.path.join(dirname, filename))\n",
        "\n",
        "# You can write up to 20GB to the current directory (/kaggle/working/) that gets preserved as output when you create a version using \"Save & Run All\" \n",
        "# You can also write temporary files to /kaggle/temp/, but they won't be saved outside of the current session"
      ],
      "execution_count": 8,
      "outputs": [
        {
          "output_type": "stream",
          "text": [
            "/content/drive/My Drive/FutureMakers/archive.zip\n",
            "/content/drive/My Drive/FutureMakers/sarcasmdetector.ipynb\n",
            "/content/drive/My Drive/FutureMakers/Sarcasm_Headlines_Dataset.json\n",
            "/content/drive/My Drive/FutureMakers/Sarcasm_Headlines_Dataset_v2.json\n"
          ],
          "name": "stdout"
        }
      ]
    },
    {
      "cell_type": "code",
      "metadata": {
        "id": "rFGuG3xZMUx_"
      },
      "source": [
        "import pandas as pd\n",
        "\n",
        "datastore = pd.read_json('/content/drive/My Drive/FutureMakers/Sarcasm_Headlines_Dataset_v2.json', lines = True)\n",
        "\n",
        "sentences = datastore['headline'].tolist()\n",
        "labels = datastore['is_sarcastic'].tolist()\n",
        "urls = datastore['article_link'].tolist()\n",
        "\n",
        "#shuffle data to split into train, test sets\n",
        "from sklearn.model_selection import train_test_split\n",
        "X_train, X_test, y_train, y_test = train_test_split(sentences, labels, train_size = 0.8, random_state = 42, shuffle = True)"
      ],
      "execution_count": 10,
      "outputs": []
    },
    {
      "cell_type": "code",
      "metadata": {
        "id": "gQylzjnoYWMA"
      },
      "source": [
        "datastore.shape\n",
        "train_dataframe = datastore[0:22895]\n",
        "test_dataframe = datastore[22895:28619]"
      ],
      "execution_count": 11,
      "outputs": []
    },
    {
      "cell_type": "code",
      "metadata": {
        "id": "9lYRZLbXYbAt",
        "colab": {
          "base_uri": "https://localhost:8080/"
        },
        "outputId": "25e3c273-8211-4f35-d379-a9aa9e96c470"
      },
      "source": [
        "print(len(X_train))\n",
        "print(len(y_train))\n",
        "print(len(X_test))\n",
        "print(len(y_test))"
      ],
      "execution_count": 12,
      "outputs": [
        {
          "output_type": "stream",
          "text": [
            "22895\n",
            "22895\n",
            "5724\n",
            "5724\n"
          ],
          "name": "stdout"
        }
      ]
    },
    {
      "cell_type": "code",
      "metadata": {
        "id": "GcFRBI-XYcyx"
      },
      "source": [
        "#tokenize text\n",
        "import tensorflow as tf\n",
        "from tensorflow.keras.preprocessing.text import Tokenizer\n",
        "from tensorflow.keras.preprocessing.sequence import pad_sequences\n",
        "\n",
        "vocab_size = 10000\n",
        "embedding_dim = 16\n",
        "max_length = 100\n",
        "training_size = 20000\n",
        "\n",
        "tokenizer = Tokenizer(num_words=vocab_size, oov_token=\"<OOV>\")\n",
        "tokenizer.fit_on_texts(X_train)\n",
        "word_index = tokenizer.word_index\n",
        "\n",
        "training_sequences = tokenizer.texts_to_sequences(X_train)\n",
        "training_padded = pad_sequences(training_sequences,maxlen=max_length, padding='post', truncating='post')\n",
        "\n",
        "testing_sequences = tokenizer.texts_to_sequences(X_test)\n",
        "testing_padded = pad_sequences(testing_sequences, maxlen=max_length, padding='post', truncating='post')"
      ],
      "execution_count": 13,
      "outputs": []
    },
    {
      "cell_type": "code",
      "metadata": {
        "id": "F_71EYswYlV0",
        "colab": {
          "base_uri": "https://localhost:8080/"
        },
        "outputId": "9086a53d-e113-4a1f-df7e-4910c33a3cf6"
      },
      "source": [
        "import numpy as np\n",
        "\n",
        "training_padded = np.array(training_padded)\n",
        "training_labels = np.array(y_train)\n",
        "testing_padded = np.array(testing_padded)\n",
        "testing_labels = np.array(y_test)\n",
        "\n",
        "model = tf.keras.Sequential([\n",
        "    tf.keras.layers.Embedding(vocab_size, embedding_dim, input_length = max_length),\n",
        "    tf.keras.layers.GlobalAveragePooling1D(),\n",
        "    tf.keras.layers.Dense(24, activation='relu'),\n",
        "    tf.keras.layers.Dense(1, activation='sigmoid')\n",
        "])\n",
        "\n",
        "model.compile(loss='binary_crossentropy',optimizer='adam',metrics=['accuracy'])\n",
        "history = model.fit(training_padded, training_labels, epochs=30, validation_data=(testing_padded, testing_labels), verbose=2)"
      ],
      "execution_count": 14,
      "outputs": [
        {
          "output_type": "stream",
          "text": [
            "Epoch 1/30\n",
            "716/716 - 5s - loss: 0.6295 - accuracy: 0.6442 - val_loss: 0.4691 - val_accuracy: 0.8078\n",
            "Epoch 2/30\n",
            "716/716 - 3s - loss: 0.3738 - accuracy: 0.8482 - val_loss: 0.3650 - val_accuracy: 0.8384\n",
            "Epoch 3/30\n",
            "716/716 - 3s - loss: 0.2900 - accuracy: 0.8832 - val_loss: 0.3468 - val_accuracy: 0.8470\n",
            "Epoch 4/30\n",
            "716/716 - 3s - loss: 0.2485 - accuracy: 0.9004 - val_loss: 0.3317 - val_accuracy: 0.8531\n",
            "Epoch 5/30\n",
            "716/716 - 3s - loss: 0.2156 - accuracy: 0.9162 - val_loss: 0.3370 - val_accuracy: 0.8519\n",
            "Epoch 6/30\n",
            "716/716 - 3s - loss: 0.1932 - accuracy: 0.9252 - val_loss: 0.3460 - val_accuracy: 0.8526\n",
            "Epoch 7/30\n",
            "716/716 - 3s - loss: 0.1727 - accuracy: 0.9360 - val_loss: 0.3556 - val_accuracy: 0.8555\n",
            "Epoch 8/30\n",
            "716/716 - 3s - loss: 0.1563 - accuracy: 0.9417 - val_loss: 0.3719 - val_accuracy: 0.8531\n",
            "Epoch 9/30\n",
            "716/716 - 3s - loss: 0.1429 - accuracy: 0.9479 - val_loss: 0.4021 - val_accuracy: 0.8429\n",
            "Epoch 10/30\n",
            "716/716 - 3s - loss: 0.1327 - accuracy: 0.9511 - val_loss: 0.4174 - val_accuracy: 0.8442\n",
            "Epoch 11/30\n",
            "716/716 - 3s - loss: 0.1202 - accuracy: 0.9581 - val_loss: 0.4392 - val_accuracy: 0.8433\n",
            "Epoch 12/30\n",
            "716/716 - 3s - loss: 0.1111 - accuracy: 0.9619 - val_loss: 0.4640 - val_accuracy: 0.8424\n",
            "Epoch 13/30\n",
            "716/716 - 3s - loss: 0.1025 - accuracy: 0.9648 - val_loss: 0.4921 - val_accuracy: 0.8394\n",
            "Epoch 14/30\n",
            "716/716 - 3s - loss: 0.0952 - accuracy: 0.9671 - val_loss: 0.5273 - val_accuracy: 0.8337\n",
            "Epoch 15/30\n",
            "716/716 - 3s - loss: 0.0886 - accuracy: 0.9698 - val_loss: 0.5516 - val_accuracy: 0.8354\n",
            "Epoch 16/30\n",
            "716/716 - 3s - loss: 0.0836 - accuracy: 0.9717 - val_loss: 0.6182 - val_accuracy: 0.8304\n",
            "Epoch 17/30\n",
            "716/716 - 3s - loss: 0.0791 - accuracy: 0.9727 - val_loss: 0.6188 - val_accuracy: 0.8258\n",
            "Epoch 18/30\n",
            "716/716 - 3s - loss: 0.0744 - accuracy: 0.9758 - val_loss: 0.6395 - val_accuracy: 0.8309\n",
            "Epoch 19/30\n",
            "716/716 - 3s - loss: 0.0698 - accuracy: 0.9767 - val_loss: 0.6873 - val_accuracy: 0.8277\n",
            "Epoch 20/30\n",
            "716/716 - 3s - loss: 0.0657 - accuracy: 0.9788 - val_loss: 0.7069 - val_accuracy: 0.8297\n",
            "Epoch 21/30\n",
            "716/716 - 3s - loss: 0.0602 - accuracy: 0.9807 - val_loss: 0.7408 - val_accuracy: 0.8244\n",
            "Epoch 22/30\n",
            "716/716 - 3s - loss: 0.0571 - accuracy: 0.9822 - val_loss: 0.7712 - val_accuracy: 0.8216\n",
            "Epoch 23/30\n",
            "716/716 - 3s - loss: 0.0533 - accuracy: 0.9831 - val_loss: 0.8257 - val_accuracy: 0.8234\n",
            "Epoch 24/30\n",
            "716/716 - 3s - loss: 0.0511 - accuracy: 0.9840 - val_loss: 0.8501 - val_accuracy: 0.8225\n",
            "Epoch 25/30\n",
            "716/716 - 3s - loss: 0.0464 - accuracy: 0.9864 - val_loss: 0.8796 - val_accuracy: 0.8215\n",
            "Epoch 26/30\n",
            "716/716 - 3s - loss: 0.0442 - accuracy: 0.9864 - val_loss: 0.9622 - val_accuracy: 0.8204\n",
            "Epoch 27/30\n",
            "716/716 - 3s - loss: 0.0421 - accuracy: 0.9870 - val_loss: 0.9777 - val_accuracy: 0.8206\n",
            "Epoch 28/30\n",
            "716/716 - 3s - loss: 0.0414 - accuracy: 0.9870 - val_loss: 0.9954 - val_accuracy: 0.8187\n",
            "Epoch 29/30\n",
            "716/716 - 3s - loss: 0.0370 - accuracy: 0.9891 - val_loss: 1.0674 - val_accuracy: 0.8178\n",
            "Epoch 30/30\n",
            "716/716 - 3s - loss: 0.0359 - accuracy: 0.9887 - val_loss: 1.0666 - val_accuracy: 0.8160\n"
          ],
          "name": "stdout"
        }
      ]
    },
    {
      "cell_type": "code",
      "metadata": {
        "id": "zwgS4as9YzL4",
        "colab": {
          "base_uri": "https://localhost:8080/",
          "height": 542
        },
        "outputId": "18448987-6c60-4122-d7b8-794205c61937"
      },
      "source": [
        "import matplotlib.pyplot as plt\n",
        "\n",
        "def plot_graphs(history, string):\n",
        "    plt.plot(history.history[string])\n",
        "    plt.plot(history.history['val_'+string])\n",
        "    plt.xlabel(\"Epochs\")\n",
        "    plt.ylabel(string)\n",
        "    plt.legend([string, 'val_'+string])\n",
        "    plt.show()\n",
        "plot_graphs(history, \"accuracy\")\n",
        "plot_graphs(history, \"loss\")"
      ],
      "execution_count": 15,
      "outputs": [
        {
          "output_type": "display_data",
          "data": {
            "image/png": "[encoded data removed]",
            "text/plain": [
              "<Figure size 432x288 with 1 Axes>"
            ]
          },
          "metadata": {
            "tags": [],
            "needs_background": "light"
          }
        },
        {
          "output_type": "display_data",
          "data": {
            "image/png": "[encoded data removed]",
            "text/plain": [
              "<Figure size 432x288 with 1 Axes>"
            ]
          },
          "metadata": {
            "tags": [],
            "needs_background": "light"
          }
        }
      ]
    },
    {
      "cell_type": "code",
      "metadata": {
        "id": "PuARX2KwY28j",
        "colab": {
          "base_uri": "https://localhost:8080/"
        },
        "outputId": "06bd5229-07ef-4077-80e0-fadedf91d427"
      },
      "source": [
        "#CNN Model\n",
        "model1 = tf.keras.Sequential([\n",
        "    tf.keras.layers.Embedding(vocab_size, embedding_dim, input_length = max_length),\n",
        "    tf.keras.layers.Conv1D(128, 5, activation='relu'),\n",
        "    tf.keras.layers.GlobalAveragePooling1D(),\n",
        "    tf.keras.layers.Dense(24, activation='relu'),\n",
        "    tf.keras.layers.Dense(1, activation='sigmoid')\n",
        "])\n",
        "\n",
        "model1.compile(loss='binary_crossentropy',optimizer='adam',metrics=['accuracy'])\n",
        "history1 = model1.fit(training_padded, training_labels, epochs=30, validation_data=(testing_padded, testing_labels), verbose=2)"
      ],
      "execution_count": 16,
      "outputs": [
        {
          "output_type": "stream",
          "text": [
            "Epoch 1/30\n",
            "716/716 - 18s - loss: 0.4955 - accuracy: 0.7383 - val_loss: 0.3892 - val_accuracy: 0.8225\n",
            "Epoch 2/30\n",
            "716/716 - 3s - loss: 0.2796 - accuracy: 0.8863 - val_loss: 0.3497 - val_accuracy: 0.8414\n",
            "Epoch 3/30\n",
            "716/716 - 3s - loss: 0.2074 - accuracy: 0.9193 - val_loss: 0.3703 - val_accuracy: 0.8456\n",
            "Epoch 4/30\n",
            "716/716 - 3s - loss: 0.1627 - accuracy: 0.9397 - val_loss: 0.3924 - val_accuracy: 0.8513\n",
            "Epoch 5/30\n",
            "716/716 - 3s - loss: 0.1295 - accuracy: 0.9538 - val_loss: 0.4372 - val_accuracy: 0.8443\n",
            "Epoch 6/30\n",
            "716/716 - 3s - loss: 0.0976 - accuracy: 0.9679 - val_loss: 0.4991 - val_accuracy: 0.8435\n",
            "Epoch 7/30\n",
            "716/716 - 3s - loss: 0.0705 - accuracy: 0.9782 - val_loss: 0.5370 - val_accuracy: 0.8412\n",
            "Epoch 8/30\n",
            "716/716 - 3s - loss: 0.0484 - accuracy: 0.9856 - val_loss: 0.6308 - val_accuracy: 0.8360\n",
            "Epoch 9/30\n",
            "716/716 - 3s - loss: 0.0318 - accuracy: 0.9914 - val_loss: 0.7246 - val_accuracy: 0.8297\n",
            "Epoch 10/30\n",
            "716/716 - 3s - loss: 0.0203 - accuracy: 0.9947 - val_loss: 0.8383 - val_accuracy: 0.8305\n",
            "Epoch 11/30\n",
            "716/716 - 3s - loss: 0.0136 - accuracy: 0.9967 - val_loss: 0.9714 - val_accuracy: 0.8295\n",
            "Epoch 12/30\n",
            "716/716 - 3s - loss: 0.0083 - accuracy: 0.9985 - val_loss: 1.0891 - val_accuracy: 0.8274\n",
            "Epoch 13/30\n",
            "716/716 - 3s - loss: 0.0057 - accuracy: 0.9986 - val_loss: 1.1515 - val_accuracy: 0.8213\n",
            "Epoch 14/30\n",
            "716/716 - 3s - loss: 0.0038 - accuracy: 0.9993 - val_loss: 1.2800 - val_accuracy: 0.8234\n",
            "Epoch 15/30\n",
            "716/716 - 3s - loss: 0.0029 - accuracy: 0.9992 - val_loss: 1.3192 - val_accuracy: 0.8239\n",
            "Epoch 16/30\n",
            "716/716 - 3s - loss: 0.0028 - accuracy: 0.9992 - val_loss: 1.3368 - val_accuracy: 0.8263\n",
            "Epoch 17/30\n",
            "716/716 - 3s - loss: 0.0042 - accuracy: 0.9984 - val_loss: 1.5162 - val_accuracy: 0.8204\n",
            "Epoch 18/30\n",
            "716/716 - 3s - loss: 0.0051 - accuracy: 0.9983 - val_loss: 1.4863 - val_accuracy: 0.8222\n",
            "Epoch 19/30\n",
            "716/716 - 3s - loss: 0.0032 - accuracy: 0.9990 - val_loss: 1.4969 - val_accuracy: 0.8202\n",
            "Epoch 20/30\n",
            "716/716 - 3s - loss: 0.0021 - accuracy: 0.9993 - val_loss: 1.6753 - val_accuracy: 0.8213\n",
            "Epoch 21/30\n",
            "716/716 - 3s - loss: 0.0015 - accuracy: 0.9994 - val_loss: 1.6969 - val_accuracy: 0.8157\n",
            "Epoch 22/30\n",
            "716/716 - 3s - loss: 0.0014 - accuracy: 0.9994 - val_loss: 1.6587 - val_accuracy: 0.8211\n",
            "Epoch 23/30\n",
            "716/716 - 3s - loss: 0.0012 - accuracy: 0.9995 - val_loss: 1.6892 - val_accuracy: 0.8169\n",
            "Epoch 24/30\n",
            "716/716 - 3s - loss: 0.0011 - accuracy: 0.9995 - val_loss: 1.8451 - val_accuracy: 0.8166\n",
            "Epoch 25/30\n",
            "716/716 - 3s - loss: 9.8848e-04 - accuracy: 0.9996 - val_loss: 1.9166 - val_accuracy: 0.8117\n",
            "Epoch 26/30\n",
            "716/716 - 3s - loss: 0.0010 - accuracy: 0.9996 - val_loss: 1.8534 - val_accuracy: 0.8173\n",
            "Epoch 27/30\n",
            "716/716 - 3s - loss: 0.0015 - accuracy: 0.9994 - val_loss: 1.9591 - val_accuracy: 0.8166\n",
            "Epoch 28/30\n",
            "716/716 - 3s - loss: 0.0029 - accuracy: 0.9988 - val_loss: 1.8880 - val_accuracy: 0.8190\n",
            "Epoch 29/30\n",
            "716/716 - 3s - loss: 0.0029 - accuracy: 0.9990 - val_loss: 1.9837 - val_accuracy: 0.8155\n",
            "Epoch 30/30\n",
            "716/716 - 3s - loss: 0.0012 - accuracy: 0.9995 - val_loss: 2.0820 - val_accuracy: 0.8169\n"
          ],
          "name": "stdout"
        }
      ]
    },
    {
      "cell_type": "code",
      "metadata": {
        "id": "T21veePRY5Ry",
        "colab": {
          "base_uri": "https://localhost:8080/"
        },
        "outputId": "2f8bf44c-bdf4-4a89-ef4d-560fc47e6b0d"
      },
      "source": [
        "#LSTM model\n",
        "model2 = tf.keras.Sequential([\n",
        "    tf.keras.layers.Embedding(vocab_size, embedding_dim, input_length = max_length),\n",
        "    tf.keras.layers.Bidirectional(tf.keras.layers.LSTM(32)),\n",
        "    tf.keras.layers.Dense(24, activation='relu'),\n",
        "    tf.keras.layers.Dense(1, activation='sigmoid')\n",
        "])\n",
        "\n",
        "model2.compile(loss='binary_crossentropy',optimizer='adam',metrics=['accuracy'])\n",
        "history2 = model2.fit(training_padded, training_labels, epochs=30, validation_data=(testing_padded, testing_labels), verbose=2)"
      ],
      "execution_count": 17,
      "outputs": [
        {
          "output_type": "stream",
          "text": [
            "Epoch 1/30\n",
            "716/716 - 11s - loss: 0.4002 - accuracy: 0.8087 - val_loss: 0.3278 - val_accuracy: 0.8538\n",
            "Epoch 2/30\n",
            "716/716 - 8s - loss: 0.2293 - accuracy: 0.9063 - val_loss: 0.3311 - val_accuracy: 0.8566\n",
            "Epoch 3/30\n",
            "716/716 - 8s - loss: 0.1678 - accuracy: 0.9345 - val_loss: 0.3574 - val_accuracy: 0.8553\n",
            "Epoch 4/30\n",
            "716/716 - 8s - loss: 0.1230 - accuracy: 0.9530 - val_loss: 0.4127 - val_accuracy: 0.8484\n",
            "Epoch 5/30\n",
            "716/716 - 8s - loss: 0.0822 - accuracy: 0.9706 - val_loss: 0.4623 - val_accuracy: 0.8520\n",
            "Epoch 6/30\n",
            "716/716 - 8s - loss: 0.0506 - accuracy: 0.9831 - val_loss: 0.6264 - val_accuracy: 0.8499\n",
            "Epoch 7/30\n",
            "716/716 - 8s - loss: 0.0333 - accuracy: 0.9888 - val_loss: 0.6765 - val_accuracy: 0.8464\n",
            "Epoch 8/30\n",
            "716/716 - 8s - loss: 0.0248 - accuracy: 0.9922 - val_loss: 0.8165 - val_accuracy: 0.8442\n",
            "Epoch 9/30\n",
            "716/716 - 8s - loss: 0.0173 - accuracy: 0.9944 - val_loss: 0.9317 - val_accuracy: 0.8428\n",
            "Epoch 10/30\n",
            "716/716 - 8s - loss: 0.0137 - accuracy: 0.9953 - val_loss: 0.9067 - val_accuracy: 0.8400\n",
            "Epoch 11/30\n",
            "716/716 - 8s - loss: 0.0112 - accuracy: 0.9963 - val_loss: 1.0706 - val_accuracy: 0.8358\n",
            "Epoch 12/30\n",
            "716/716 - 8s - loss: 0.0080 - accuracy: 0.9979 - val_loss: 1.0598 - val_accuracy: 0.8400\n",
            "Epoch 13/30\n",
            "716/716 - 8s - loss: 0.0075 - accuracy: 0.9975 - val_loss: 1.2401 - val_accuracy: 0.8335\n",
            "Epoch 14/30\n",
            "716/716 - 8s - loss: 0.0087 - accuracy: 0.9972 - val_loss: 1.0277 - val_accuracy: 0.8426\n",
            "Epoch 15/30\n",
            "716/716 - 8s - loss: 0.0082 - accuracy: 0.9972 - val_loss: 1.0667 - val_accuracy: 0.8358\n",
            "Epoch 16/30\n",
            "716/716 - 8s - loss: 0.0052 - accuracy: 0.9982 - val_loss: 1.1546 - val_accuracy: 0.8372\n",
            "Epoch 17/30\n",
            "716/716 - 8s - loss: 0.0053 - accuracy: 0.9983 - val_loss: 1.1953 - val_accuracy: 0.8389\n",
            "Epoch 18/30\n",
            "716/716 - 8s - loss: 0.0038 - accuracy: 0.9988 - val_loss: 1.2773 - val_accuracy: 0.8393\n",
            "Epoch 19/30\n",
            "716/716 - 8s - loss: 0.0022 - accuracy: 0.9994 - val_loss: 1.4242 - val_accuracy: 0.8286\n",
            "Epoch 20/30\n",
            "716/716 - 8s - loss: 0.0041 - accuracy: 0.9987 - val_loss: 1.3549 - val_accuracy: 0.8312\n",
            "Epoch 21/30\n",
            "716/716 - 8s - loss: 0.0051 - accuracy: 0.9983 - val_loss: 1.2766 - val_accuracy: 0.8344\n",
            "Epoch 22/30\n",
            "716/716 - 8s - loss: 0.0030 - accuracy: 0.9988 - val_loss: 1.4228 - val_accuracy: 0.8302\n",
            "Epoch 23/30\n",
            "716/716 - 8s - loss: 0.0017 - accuracy: 0.9994 - val_loss: 1.4370 - val_accuracy: 0.8311\n",
            "Epoch 24/30\n",
            "716/716 - 8s - loss: 0.0011 - accuracy: 0.9997 - val_loss: 1.4626 - val_accuracy: 0.8304\n",
            "Epoch 25/30\n",
            "716/716 - 8s - loss: 8.6397e-04 - accuracy: 0.9997 - val_loss: 1.4939 - val_accuracy: 0.8319\n",
            "Epoch 26/30\n",
            "716/716 - 8s - loss: 0.0012 - accuracy: 0.9995 - val_loss: 1.5456 - val_accuracy: 0.8307\n",
            "Epoch 27/30\n",
            "716/716 - 8s - loss: 0.0018 - accuracy: 0.9994 - val_loss: 1.3772 - val_accuracy: 0.8379\n",
            "Epoch 28/30\n",
            "716/716 - 8s - loss: 0.0039 - accuracy: 0.9987 - val_loss: 1.6474 - val_accuracy: 0.8242\n",
            "Epoch 29/30\n",
            "716/716 - 8s - loss: 0.0056 - accuracy: 0.9980 - val_loss: 1.5126 - val_accuracy: 0.8281\n",
            "Epoch 30/30\n",
            "716/716 - 8s - loss: 0.0021 - accuracy: 0.9993 - val_loss: 1.4213 - val_accuracy: 0.8335\n"
          ],
          "name": "stdout"
        }
      ]
    },
    {
      "cell_type": "code",
      "metadata": {
        "id": "gTsSOcbyY7lk",
        "colab": {
          "base_uri": "https://localhost:8080/"
        },
        "outputId": "e37401fa-04a9-4660-943e-12357eb7e234"
      },
      "source": [
        "#RNN Model\n",
        "# encoder = tf.keras.layers.experimental.preprocessing.TextVectorization(max_tokens=vocab_size)\n",
        "# encoder.adapt((datastore['headline']).map(lambda text, label: text))\n",
        "model3 = tf.keras.Sequential([\n",
        "    #encoder,\n",
        "    tf.keras.layers.Embedding(vocab_size, embedding_dim, input_length = max_length, mask_zero=True),\n",
        "    tf.keras.layers.Bidirectional(tf.keras.layers.LSTM(64,  return_sequences=True)),\n",
        "    tf.keras.layers.Bidirectional(tf.keras.layers.LSTM(32)),\n",
        "    tf.keras.layers.Dense(64, activation='relu'),\n",
        "    tf.keras.layers.Dropout(0.5),\n",
        "    tf.keras.layers.Dense(1)\n",
        "])\n",
        "model3.compile(loss=tf.keras.losses.BinaryCrossentropy(from_logits=True), optimizer=tf.keras.optimizers.Adam(1e-4),metrics=['accuracy'])\n",
        "history3 = model3.fit(training_padded, training_labels, epochs=10, validation_data=(testing_padded, testing_labels), verbose=2, validation_steps=30)"
      ],
      "execution_count": 18,
      "outputs": [
        {
          "output_type": "stream",
          "text": [
            "Epoch 1/10\n",
            "716/716 - 27s - loss: 0.5586 - accuracy: 0.6505 - val_loss: 0.4137 - val_accuracy: 0.7942\n",
            "Epoch 2/10\n",
            "716/716 - 13s - loss: 0.3402 - accuracy: 0.8443 - val_loss: 0.3517 - val_accuracy: 0.8363\n",
            "Epoch 3/10\n",
            "716/716 - 13s - loss: 0.2591 - accuracy: 0.8933 - val_loss: 0.3413 - val_accuracy: 0.8491\n",
            "Epoch 4/10\n",
            "716/716 - 12s - loss: 0.2097 - accuracy: 0.9184 - val_loss: 0.3588 - val_accuracy: 0.8498\n",
            "Epoch 5/10\n",
            "716/716 - 12s - loss: 0.1743 - accuracy: 0.9368 - val_loss: 0.3780 - val_accuracy: 0.8538\n",
            "Epoch 6/10\n",
            "716/716 - 12s - loss: 0.1469 - accuracy: 0.9473 - val_loss: 0.4074 - val_accuracy: 0.8531\n",
            "Epoch 7/10\n",
            "716/716 - 12s - loss: 0.1220 - accuracy: 0.9585 - val_loss: 0.4823 - val_accuracy: 0.8510\n",
            "Epoch 8/10\n",
            "716/716 - 13s - loss: 0.1036 - accuracy: 0.9650 - val_loss: 0.5231 - val_accuracy: 0.8496\n",
            "Epoch 9/10\n",
            "716/716 - 12s - loss: 0.0875 - accuracy: 0.9706 - val_loss: 0.6025 - val_accuracy: 0.8445\n",
            "Epoch 10/10\n",
            "716/716 - 12s - loss: 0.0749 - accuracy: 0.9764 - val_loss: 0.6593 - val_accuracy: 0.8450\n"
          ],
          "name": "stdout"
        }
      ]
    },
    {
      "cell_type": "code",
      "metadata": {
        "id": "xDcAYENHY-pV"
      },
      "source": [
        "# BERT\n",
        "#!pip install bert-tokenizer\n",
        "#from bert import bert_tokenization\n",
        "#import tensorflow_datasets as tfds\n",
        "#from tqdm.notebook import tqdm\n",
        "#import numpy as np\n",
        "#import pandas as pd\n",
        "\n",
        "#bert_tokenizer = BertTokenizer.from_pretrained('bert-base-uncased', do_lower_case=True)\n",
        "#def input_for_bert_model(df, tokenizer, max_seq_length):\n",
        "    #columns_list = df.columns.tolist()\n",
        "    #input_ids = np.zeros((len(df), max_seq_length))\n",
        "    #input_attention_masks = np.zeros((len(df), max_seq_length))\n",
        "    \n",
        "   # if 'is_sarcastic' in columns_list:\n",
        "    #    train_labels = np.zeros((len(df), 1))\n",
        "    #    for i, labels in enumerate(df['is_sarcastic']):\n",
        "    #        train_labels[i,:] = labels\n",
        "    \n",
        "    #for i, sequence in enumerate(df['headline']):\n",
        "     #   tokens = tokenizer.encode_plus(\n",
        "      #      sequence,\n",
        "      #      max_length = max_seq_length, # max length of the text that can go to BERT\n",
        "      #      truncation=True, padding='max_length',\n",
        "      #      add_special_tokens = True, # add [CLS], [SEP]\n",
        "       #     return_token_type_ids = False, \n",
        "       #     return_attention_mask = True, # add attention mask to not focus on pad tokens\n",
        "        #    return_tensors = 'tf'\n",
        "      #  )\n",
        "      #  input_ids[i,:], input_attention_masks[i,:] = tokens['input_ids'], tokens['attention_mask']\n",
        "    \n",
        "  #  if 'is_sarcastic' in columns_list:\n",
        "    #    return input_ids, input_attention_masks, train_labels\n",
        "   # else:\n",
        "     #   return input_ids, input_attention_masks\n",
        "    \n",
        "#train_ids, train_attention_masks, train_labels = input_for_bert_model(train_dataframe, bert_tokenizer, max_length)\n",
        "#test_ids, test_attention_masks, test_labels = input_for_bert_model(test_dataframe, bert_tokenizer, max_length)\n",
        "#train_inputs = {\"input_ids\":train_ids[:22895], \"attention_mask\":train_attention_masks[:22895]}\n",
        "#train_outputs = train_labels[:22895]\n",
        "#valid_inputs = {\"input_ids\":train_ids[22895:], \"attention_mask\":train_attention_masks[22895:]}\n",
        "#valid_outputs = train_labels[22895:]\n",
        "#test_inputs = {\"input_ids\":test_ids, \"attention_mask\":test_attention_masks}\n",
        "#test_outputs = test_labels[22895:]"
      ],
      "execution_count": 45,
      "outputs": []
    },
    {
      "cell_type": "code",
      "metadata": {
        "id": "-mWlImrdZC8e"
      },
      "source": [
        "#Bert model initialization\n",
        "#from transformers import BertTokenizer, TFBertModel\n",
        "#bert_model = TFBertModel.from_pretrained('bert-base-uncased')\n",
        "#input_ids = tf.keras.layers.Input(shape=(max_length,), dtype=tf.int32, name=\"input_ids\")\n",
        "#attention_mask = tf.keras.layers.Input(shape=(max_length,), dtype=tf.int32, name=\"attention_mask\")\n",
        "#sequence_output = bert_model(input_ids, attention_mask=attention_mask)[0][:,0,:]\n",
        "#x = tf.keras.layers.Dropout(0.1)(sequence_output)\n",
        "#out = tf.keras.layers.Dense(1, activation='linear', name=\"outputs\")(x)\n",
        "#model4 = tf.keras.Model(inputs=[input_ids, attention_mask], outputs=out)"
      ],
      "execution_count": 46,
      "outputs": []
    },
    {
      "cell_type": "code",
      "metadata": {
        "id": "rmD-Ju02ZFxU"
      },
      "source": [
        "#optimizer = tf.keras.optimizers.Adam(lr=1e-4)\n",
        "#model4.compile(optimizer=optimizer, loss='mean_squared_error', metrics=[tf.keras.metrics.RootMeanSquaredError()])\n",
        "#history4 = model4.fit(train_inputs, train_outputs, epochs=10, batch_size=8, validation_data=(valid_inputs, valid_outputs))"
      ],
      "execution_count": 47,
      "outputs": []
    },
    {
      "cell_type": "code",
      "metadata": {
        "id": "QOZZ28ZVZIgB",
        "colab": {
          "base_uri": "https://localhost:8080/",
          "height": 143
        },
        "outputId": "5b3fc94b-5602-46cf-bb8f-1215821e2186"
      },
      "source": [
        "#plotting comparison between 3 models\n",
        "import pandas as pd\n",
        "from pandas import DataFrame\n",
        "accuracy = [max(history1.history['val_accuracy']),max(history2.history['val_accuracy']), max(history3.history['val_accuracy'])]\n",
        "loss = [max(history1.history['val_loss']),max(history2.history['val_loss']),max(history3.history['val_loss'])]\n",
        "\n",
        "col={'Accuracy':accuracy,'Loss':loss}\n",
        "models=['NN','CNN','LSTM']\n",
        "graph_df=DataFrame(data=col,index=models)\n",
        "graph_df\n"
      ],
      "execution_count": 48,
      "outputs": [
        {
          "output_type": "execute_result",
          "data": {
            "text/html": [
              "<div>\n",
              "<style scoped>\n",
              "    .dataframe tbody tr th:only-of-type {\n",
              "        vertical-align: middle;\n",
              "    }\n",
              "\n",
              "    .dataframe tbody tr th {\n",
              "        vertical-align: top;\n",
              "    }\n",
              "\n",
              "    .dataframe thead th {\n",
              "        text-align: right;\n",
              "    }\n",
              "</style>\n",
              "<table border=\"1\" class=\"dataframe\">\n",
              "  <thead>\n",
              "    <tr style=\"text-align: right;\">\n",
              "      <th></th>\n",
              "      <th>Accuracy</th>\n",
              "      <th>Loss</th>\n",
              "    </tr>\n",
              "  </thead>\n",
              "  <tbody>\n",
              "    <tr>\n",
              "      <th>NN</th>\n",
              "      <td>0.851328</td>\n",
              "      <td>2.081993</td>\n",
              "    </tr>\n",
              "    <tr>\n",
              "      <th>CNN</th>\n",
              "      <td>0.856569</td>\n",
              "      <td>1.647395</td>\n",
              "    </tr>\n",
              "    <tr>\n",
              "      <th>LSTM</th>\n",
              "      <td>0.853774</td>\n",
              "      <td>0.659341</td>\n",
              "    </tr>\n",
              "  </tbody>\n",
              "</table>\n",
              "</div>"
            ],
            "text/plain": [
              "      Accuracy      Loss\n",
              "NN    0.851328  2.081993\n",
              "CNN   0.856569  1.647395\n",
              "LSTM  0.853774  0.659341"
            ]
          },
          "metadata": {
            "tags": []
          },
          "execution_count": 48
        }
      ]
    },
    {
      "cell_type": "code",
      "metadata": {
        "id": "0qrXF-6ZZLMg",
        "colab": {
          "base_uri": "https://localhost:8080/",
          "height": 299
        },
        "outputId": "2c1d4088-c932-43cb-efae-62476203f7f3"
      },
      "source": [
        "graph_df.plot(kind='bar')"
      ],
      "execution_count": 49,
      "outputs": [
        {
          "output_type": "execute_result",
          "data": {
            "text/plain": [
              "<matplotlib.axes._subplots.AxesSubplot at 0x7f4148db6810>"
            ]
          },
          "metadata": {
            "tags": []
          },
          "execution_count": 49
        },
        {
          "output_type": "display_data",
          "data": {
            "image/png": "[encoded data removed]",
            "text/plain": [
              "<Figure size 432x288 with 1 Axes>"
            ]
          },
          "metadata": {
            "tags": [],
            "needs_background": "light"
          }
        }
      ]
    }
  ]
}